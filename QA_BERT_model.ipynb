{
  "nbformat": 4,
  "nbformat_minor": 0,
  "metadata": {
    "colab": {
      "name": "QA BERT model.ipynb",
      "provenance": [],
      "collapsed_sections": [
        "xz4W_-pMVJsX",
        "ovpD8XkfVpTU",
        "H2cYcF0_Vvxv",
        "CkHR8UBXVxyv"
      ],
      "authorship_tag": "ABX9TyOz1v31cPbfPuxjZq8XzyxM",
      "include_colab_link": true
    },
    "kernelspec": {
      "name": "python3",
      "display_name": "Python 3"
    },
    "accelerator": "TPU"
  },
  "cells": [
    {
      "cell_type": "markdown",
      "metadata": {
        "id": "view-in-github",
        "colab_type": "text"
      },
      "source": [
        "<a href=\"https://colab.research.google.com/github/supertime1/BERT/blob/main/QA_BERT_model.ipynb\" target=\"_parent\"><img src=\"https://colab.research.google.com/assets/colab-badge.svg\" alt=\"Open In Colab\"/></a>"
      ]
    },
    {
      "cell_type": "markdown",
      "metadata": {
        "id": "xz4W_-pMVJsX"
      },
      "source": [
        "#1.Import Dependencies"
      ]
    },
    {
      "cell_type": "code",
      "metadata": {
        "colab": {
          "base_uri": "https://localhost:8080/"
        },
        "id": "gsGeLLt-Z4ot",
        "outputId": "bb2d8314-7a9c-41f0-8ae7-22219da55369"
      },
      "source": [
        "!pip install tokenizers"
      ],
      "execution_count": 7,
      "outputs": [
        {
          "output_type": "stream",
          "text": [
            "Collecting tokenizers\n",
            "\u001b[?25l  Downloading https://files.pythonhosted.org/packages/0f/1c/e789a8b12e28be5bc1ce2156cf87cb522b379be9cadc7ad8091a4cc107c4/tokenizers-0.9.4-cp36-cp36m-manylinux2010_x86_64.whl (2.9MB)\n",
            "\u001b[K     |████████████████████████████████| 2.9MB 6.3MB/s \n",
            "\u001b[?25hInstalling collected packages: tokenizers\n",
            "Successfully installed tokenizers-0.9.4\n"
          ],
          "name": "stdout"
        }
      ]
    },
    {
      "cell_type": "code",
      "metadata": {
        "colab": {
          "base_uri": "https://localhost:8080/"
        },
        "id": "hGkI4iPWbYVW",
        "outputId": "d8628138-ffec-419e-8704-a38e91b094e5"
      },
      "source": [
        "!pip install tensorflow_text"
      ],
      "execution_count": 8,
      "outputs": [
        {
          "output_type": "stream",
          "text": [
            "Collecting tensorflow_text\n",
            "\u001b[?25l  Downloading https://files.pythonhosted.org/packages/55/b8/5884204f7c2da639a3061fe3a0c41a06bb80bf7976fa7d407e1d628e38e9/tensorflow_text-2.4.2-cp36-cp36m-manylinux1_x86_64.whl (3.4MB)\n",
            "\u001b[K     |████████████████████████████████| 3.4MB 7.1MB/s \n",
            "\u001b[?25hRequirement already satisfied: tensorflow<2.5,>=2.4.0 in /usr/local/lib/python3.6/dist-packages (from tensorflow_text) (2.4.0)\n",
            "Requirement already satisfied: tensorflow-hub>=0.8.0 in /usr/local/lib/python3.6/dist-packages (from tensorflow_text) (0.10.0)\n",
            "Requirement already satisfied: termcolor~=1.1.0 in /usr/local/lib/python3.6/dist-packages (from tensorflow<2.5,>=2.4.0->tensorflow_text) (1.1.0)\n",
            "Requirement already satisfied: wheel~=0.35 in /usr/local/lib/python3.6/dist-packages (from tensorflow<2.5,>=2.4.0->tensorflow_text) (0.36.2)\n",
            "Requirement already satisfied: keras-preprocessing~=1.1.2 in /usr/local/lib/python3.6/dist-packages (from tensorflow<2.5,>=2.4.0->tensorflow_text) (1.1.2)\n",
            "Requirement already satisfied: google-pasta~=0.2 in /usr/local/lib/python3.6/dist-packages (from tensorflow<2.5,>=2.4.0->tensorflow_text) (0.2.0)\n",
            "Requirement already satisfied: grpcio~=1.32.0 in /usr/local/lib/python3.6/dist-packages (from tensorflow<2.5,>=2.4.0->tensorflow_text) (1.32.0)\n",
            "Requirement already satisfied: numpy~=1.19.2 in /usr/local/lib/python3.6/dist-packages (from tensorflow<2.5,>=2.4.0->tensorflow_text) (1.19.4)\n",
            "Requirement already satisfied: protobuf>=3.9.2 in /usr/local/lib/python3.6/dist-packages (from tensorflow<2.5,>=2.4.0->tensorflow_text) (3.12.4)\n",
            "Requirement already satisfied: tensorboard~=2.4 in /usr/local/lib/python3.6/dist-packages (from tensorflow<2.5,>=2.4.0->tensorflow_text) (2.4.0)\n",
            "Requirement already satisfied: absl-py~=0.10 in /usr/local/lib/python3.6/dist-packages (from tensorflow<2.5,>=2.4.0->tensorflow_text) (0.10.0)\n",
            "Requirement already satisfied: opt-einsum~=3.3.0 in /usr/local/lib/python3.6/dist-packages (from tensorflow<2.5,>=2.4.0->tensorflow_text) (3.3.0)\n",
            "Requirement already satisfied: h5py~=2.10.0 in /usr/local/lib/python3.6/dist-packages (from tensorflow<2.5,>=2.4.0->tensorflow_text) (2.10.0)\n",
            "Requirement already satisfied: gast==0.3.3 in /usr/local/lib/python3.6/dist-packages (from tensorflow<2.5,>=2.4.0->tensorflow_text) (0.3.3)\n",
            "Requirement already satisfied: tensorflow-estimator<2.5.0,>=2.4.0rc0 in /usr/local/lib/python3.6/dist-packages (from tensorflow<2.5,>=2.4.0->tensorflow_text) (2.4.0)\n",
            "Requirement already satisfied: six~=1.15.0 in /usr/local/lib/python3.6/dist-packages (from tensorflow<2.5,>=2.4.0->tensorflow_text) (1.15.0)\n",
            "Requirement already satisfied: typing-extensions~=3.7.4 in /usr/local/lib/python3.6/dist-packages (from tensorflow<2.5,>=2.4.0->tensorflow_text) (3.7.4.3)\n",
            "Requirement already satisfied: astunparse~=1.6.3 in /usr/local/lib/python3.6/dist-packages (from tensorflow<2.5,>=2.4.0->tensorflow_text) (1.6.3)\n",
            "Requirement already satisfied: wrapt~=1.12.1 in /usr/local/lib/python3.6/dist-packages (from tensorflow<2.5,>=2.4.0->tensorflow_text) (1.12.1)\n",
            "Requirement already satisfied: flatbuffers~=1.12.0 in /usr/local/lib/python3.6/dist-packages (from tensorflow<2.5,>=2.4.0->tensorflow_text) (1.12)\n",
            "Requirement already satisfied: setuptools in /usr/local/lib/python3.6/dist-packages (from protobuf>=3.9.2->tensorflow<2.5,>=2.4.0->tensorflow_text) (51.1.1)\n",
            "Requirement already satisfied: tensorboard-plugin-wit>=1.6.0 in /usr/local/lib/python3.6/dist-packages (from tensorboard~=2.4->tensorflow<2.5,>=2.4.0->tensorflow_text) (1.7.0)\n",
            "Requirement already satisfied: google-auth-oauthlib<0.5,>=0.4.1 in /usr/local/lib/python3.6/dist-packages (from tensorboard~=2.4->tensorflow<2.5,>=2.4.0->tensorflow_text) (0.4.2)\n",
            "Requirement already satisfied: requests<3,>=2.21.0 in /usr/local/lib/python3.6/dist-packages (from tensorboard~=2.4->tensorflow<2.5,>=2.4.0->tensorflow_text) (2.23.0)\n",
            "Requirement already satisfied: werkzeug>=0.11.15 in /usr/local/lib/python3.6/dist-packages (from tensorboard~=2.4->tensorflow<2.5,>=2.4.0->tensorflow_text) (1.0.1)\n",
            "Requirement already satisfied: google-auth<2,>=1.6.3 in /usr/local/lib/python3.6/dist-packages (from tensorboard~=2.4->tensorflow<2.5,>=2.4.0->tensorflow_text) (1.17.2)\n",
            "Requirement already satisfied: markdown>=2.6.8 in /usr/local/lib/python3.6/dist-packages (from tensorboard~=2.4->tensorflow<2.5,>=2.4.0->tensorflow_text) (3.3.3)\n",
            "Requirement already satisfied: requests-oauthlib>=0.7.0 in /usr/local/lib/python3.6/dist-packages (from google-auth-oauthlib<0.5,>=0.4.1->tensorboard~=2.4->tensorflow<2.5,>=2.4.0->tensorflow_text) (1.3.0)\n",
            "Requirement already satisfied: certifi>=2017.4.17 in /usr/local/lib/python3.6/dist-packages (from requests<3,>=2.21.0->tensorboard~=2.4->tensorflow<2.5,>=2.4.0->tensorflow_text) (2020.12.5)\n",
            "Requirement already satisfied: urllib3!=1.25.0,!=1.25.1,<1.26,>=1.21.1 in /usr/local/lib/python3.6/dist-packages (from requests<3,>=2.21.0->tensorboard~=2.4->tensorflow<2.5,>=2.4.0->tensorflow_text) (1.24.3)\n",
            "Requirement already satisfied: chardet<4,>=3.0.2 in /usr/local/lib/python3.6/dist-packages (from requests<3,>=2.21.0->tensorboard~=2.4->tensorflow<2.5,>=2.4.0->tensorflow_text) (3.0.4)\n",
            "Requirement already satisfied: idna<3,>=2.5 in /usr/local/lib/python3.6/dist-packages (from requests<3,>=2.21.0->tensorboard~=2.4->tensorflow<2.5,>=2.4.0->tensorflow_text) (2.10)\n",
            "Requirement already satisfied: cachetools<5.0,>=2.0.0 in /usr/local/lib/python3.6/dist-packages (from google-auth<2,>=1.6.3->tensorboard~=2.4->tensorflow<2.5,>=2.4.0->tensorflow_text) (4.2.0)\n",
            "Requirement already satisfied: rsa<5,>=3.1.4; python_version >= \"3\" in /usr/local/lib/python3.6/dist-packages (from google-auth<2,>=1.6.3->tensorboard~=2.4->tensorflow<2.5,>=2.4.0->tensorflow_text) (4.6)\n",
            "Requirement already satisfied: pyasn1-modules>=0.2.1 in /usr/local/lib/python3.6/dist-packages (from google-auth<2,>=1.6.3->tensorboard~=2.4->tensorflow<2.5,>=2.4.0->tensorflow_text) (0.2.8)\n",
            "Requirement already satisfied: importlib-metadata; python_version < \"3.8\" in /usr/local/lib/python3.6/dist-packages (from markdown>=2.6.8->tensorboard~=2.4->tensorflow<2.5,>=2.4.0->tensorflow_text) (3.3.0)\n",
            "Requirement already satisfied: oauthlib>=3.0.0 in /usr/local/lib/python3.6/dist-packages (from requests-oauthlib>=0.7.0->google-auth-oauthlib<0.5,>=0.4.1->tensorboard~=2.4->tensorflow<2.5,>=2.4.0->tensorflow_text) (3.1.0)\n",
            "Requirement already satisfied: pyasn1>=0.1.3 in /usr/local/lib/python3.6/dist-packages (from rsa<5,>=3.1.4; python_version >= \"3\"->google-auth<2,>=1.6.3->tensorboard~=2.4->tensorflow<2.5,>=2.4.0->tensorflow_text) (0.4.8)\n",
            "Requirement already satisfied: zipp>=0.5 in /usr/local/lib/python3.6/dist-packages (from importlib-metadata; python_version < \"3.8\"->markdown>=2.6.8->tensorboard~=2.4->tensorflow<2.5,>=2.4.0->tensorflow_text) (3.4.0)\n",
            "Installing collected packages: tensorflow-text\n",
            "Successfully installed tensorflow-text-2.4.2\n"
          ],
          "name": "stdout"
        }
      ]
    },
    {
      "cell_type": "code",
      "metadata": {
        "colab": {
          "base_uri": "https://localhost:8080/"
        },
        "id": "p6rfjJRIbggH",
        "outputId": "e05ac28b-6d73-4fae-bc8c-2ec91b973bc5"
      },
      "source": [
        "!pip install -q tf-models-official"
      ],
      "execution_count": 9,
      "outputs": [
        {
          "output_type": "stream",
          "text": [
            "\u001b[K     |████████████████████████████████| 1.1MB 4.9MB/s \n",
            "\u001b[K     |████████████████████████████████| 358kB 47.1MB/s \n",
            "\u001b[K     |████████████████████████████████| 1.1MB 31.3MB/s \n",
            "\u001b[K     |████████████████████████████████| 174kB 36.7MB/s \n",
            "\u001b[K     |████████████████████████████████| 276kB 51.0MB/s \n",
            "\u001b[K     |████████████████████████████████| 37.6MB 1.3MB/s \n",
            "\u001b[K     |████████████████████████████████| 51kB 6.3MB/s \n",
            "\u001b[K     |████████████████████████████████| 102kB 10.4MB/s \n",
            "\u001b[?25h  Building wheel for pyyaml (setup.py) ... \u001b[?25l\u001b[?25hdone\n",
            "  Building wheel for seqeval (setup.py) ... \u001b[?25l\u001b[?25hdone\n",
            "  Building wheel for py-cpuinfo (setup.py) ... \u001b[?25l\u001b[?25hdone\n"
          ],
          "name": "stdout"
        }
      ]
    },
    {
      "cell_type": "code",
      "metadata": {
        "id": "orAMKxKkU_Vh"
      },
      "source": [
        "import os\r\n",
        "import tensorflow.keras as keras\r\n",
        "import tensorflow as tf\r\n",
        "import tensorflow_hub as hub\r\n",
        "import tensorflow_datasets as tfds\r\n",
        "import tensorflow_text as text  # A dependency of the preprocessing model\r\n",
        "import tensorflow_addons as tfa\r\n",
        "from official.nlp import optimization, bert\r\n",
        "import numpy as np\r\n",
        "import json\r\n",
        "from tokenizers import BertWordPieceTokenizer\r\n",
        "import string\r\n",
        "import re\r\n",
        "tf.get_logger().setLevel('ERROR')\r\n",
        "import official.nlp.bert.tokenization"
      ],
      "execution_count": 10,
      "outputs": []
    },
    {
      "cell_type": "code",
      "metadata": {
        "colab": {
          "base_uri": "https://localhost:8080/"
        },
        "id": "3I6GNqFKSkt8",
        "outputId": "aad35fa3-adde-4fcf-d1f1-301b848eb35b"
      },
      "source": [
        "try:\r\n",
        "  tpu = tf.distribute.cluster_resolver.TPUClusterResolver()  # TPU detection\r\n",
        "  print('Running on TPU ', tpu.cluster_spec().as_dict()['worker'])\r\n",
        "except ValueError:\r\n",
        "  raise BaseException('ERROR: Not connected to a TPU runtime; please see the previous cell in this notebook for instructions!')\r\n",
        "\r\n",
        "tf.config.experimental_connect_to_cluster(tpu)\r\n",
        "tf.tpu.experimental.initialize_tpu_system(tpu)\r\n",
        "tpu_strategy = tf.distribute.experimental.TPUStrategy(tpu)"
      ],
      "execution_count": 11,
      "outputs": [
        {
          "output_type": "stream",
          "text": [
            "Running on TPU  ['10.59.188.18:8470']\n"
          ],
          "name": "stdout"
        },
        {
          "output_type": "stream",
          "text": [
            "WARNING:absl:`tf.distribute.experimental.TPUStrategy` is deprecated, please use  the non experimental symbol `tf.distribute.TPUStrategy` instead.\n"
          ],
          "name": "stderr"
        }
      ]
    },
    {
      "cell_type": "code",
      "metadata": {
        "id": "KJaLqPyo6JhW",
        "colab": {
          "base_uri": "https://localhost:8080/"
        },
        "outputId": "647e0e7e-f96a-444b-e12d-7bc3800be940"
      },
      "source": [
        "from tensorflow.python.client import device_lib \r\n",
        "print(device_lib.list_local_devices())"
      ],
      "execution_count": 12,
      "outputs": [
        {
          "output_type": "stream",
          "text": [
            "[name: \"/device:CPU:0\"\n",
            "device_type: \"CPU\"\n",
            "memory_limit: 268435456\n",
            "locality {\n",
            "}\n",
            "incarnation: 4063339709661574253\n",
            "]\n"
          ],
          "name": "stdout"
        }
      ]
    },
    {
      "cell_type": "code",
      "metadata": {
        "id": "GqtflcAO6W9x",
        "colab": {
          "base_uri": "https://localhost:8080/"
        },
        "outputId": "cfcc8ae5-40ee-4273-fcf1-1a83d2c274d5"
      },
      "source": [
        "tf.test.is_gpu_available(cuda_only=False, min_cuda_compute_capability=None)"
      ],
      "execution_count": 13,
      "outputs": [
        {
          "output_type": "execute_result",
          "data": {
            "text/plain": [
              "False"
            ]
          },
          "metadata": {
            "tags": []
          },
          "execution_count": 13
        }
      ]
    },
    {
      "cell_type": "markdown",
      "metadata": {
        "id": "Zlt53u2UVlb-"
      },
      "source": [
        "#2.Helper functions"
      ]
    },
    {
      "cell_type": "code",
      "metadata": {
        "id": "kh_mG7LuzHso"
      },
      "source": [
        "class Sample:\r\n",
        "  def __init__(self, question, context, start_char_idx=None, answer_text=None, all_answers=None):\r\n",
        "    self.question = question\r\n",
        "    self.context = context\r\n",
        "    self.start_char_idx = start_char_idx\r\n",
        "    self.answer_text = answer_text\r\n",
        "    self.all_answers = all_answers\r\n",
        "    self.skip = False\r\n",
        "    self.start_token_idx = -1\r\n",
        "    self.end_token_idx = -1\r\n",
        "  \r\n",
        "  def preprocess(self):\r\n",
        "  # remove multipe whitespace between characters\r\n",
        "    context = \" \".join(str(self.context).split())\r\n",
        "    question = \" \".join(str(self.question).split())\r\n",
        "    # tokenize context and question\r\n",
        "    tokenized_context = tokenizer.encode(context)\r\n",
        "    tokenized_question = tokenizer.encode(question)\r\n",
        "    # preprocess answer if this is a validation or training sample\r\n",
        "    if self.answer_text:\r\n",
        "      answer = \" \".join(str(self.answer_text).split())\r\n",
        "      # find the end character index\r\n",
        "      end_char_idx = self.start_char_idx + len(answer)\r\n",
        "      \r\n",
        "      # sometimes squad answers are off by a character or two – fix this\r\n",
        "      if context[self.start_char_idx-1:end_char_idx-1] == answer:\r\n",
        "          self.start_char_idx -= 1\r\n",
        "          end_char_idx -= 1\r\n",
        "      elif context[self.start_char_idx-2:end_char_idx-2] == answer:\r\n",
        "          self.start_char_idx -= 2\r\n",
        "          end_char_idx -= 2\r\n",
        "      \r\n",
        "      # check if end character index is in the context\r\n",
        "      if end_char_idx >= len(context):\r\n",
        "        self.skip = True\r\n",
        "        return\r\n",
        "      # mark all the character indexes in context that are also in answer\r\n",
        "      is_char_in_ans = [0] * len(context)\r\n",
        "      for idx in range(self.start_char_idx, end_char_idx):\r\n",
        "        is_char_in_ans[idx] = 1\r\n",
        "      # find all the tokens that are in the answers\r\n",
        "      ans_token_idx = []\r\n",
        "      for idx, (start, end) in enumerate(tokenized_context.offsets):\r\n",
        "        if sum(is_char_in_ans[start:end]) > 0:\r\n",
        "          ans_token_idx.append(idx)\r\n",
        "      if len(ans_token_idx) == 0:\r\n",
        "        self.skip = True\r\n",
        "        return\r\n",
        "      # get start and end token indexes\r\n",
        "      self.start_token_idx = ans_token_idx[0]\r\n",
        "      self.end_token_idx = ans_token_idx[-1]\r\n",
        "\r\n",
        "    # create inputs as usual\r\n",
        "    input_ids = tokenized_context.ids + tokenized_question.ids[1:]\r\n",
        "    attention_mask = [1] * len(input_ids)\r\n",
        "    token_type_ids = [0] * len(tokenized_context.ids) + [1] * len(tokenized_question.ids[1:])\r\n",
        "    padding_length = max_seq_length - len(input_ids)\r\n",
        "    # add padding if necessary\r\n",
        "    if padding_length > 0:\r\n",
        "      input_ids += [0] * padding_length\r\n",
        "      attention_mask += [0] * padding_length\r\n",
        "      token_type_ids += [0] * padding_length\r\n",
        "\r\n",
        "    elif padding_length < 0:\r\n",
        "      self.skip = True\r\n",
        "      return\r\n",
        "\r\n",
        "    self.input_word_ids = input_ids\r\n",
        "    self.input_type_ids = token_type_ids\r\n",
        "    self.input_mask = attention_mask\r\n",
        "    self.context_token_to_char = tokenized_context.offsets"
      ],
      "execution_count": 14,
      "outputs": []
    },
    {
      "cell_type": "code",
      "metadata": {
        "id": "XP3Lxs7CDap7"
      },
      "source": [
        "def create_squad_examples(raw_data):\r\n",
        "    squad_examples = []\r\n",
        "    for item in raw_data[\"data\"]:\r\n",
        "        for para in item[\"paragraphs\"]:\r\n",
        "            context = para[\"context\"]\r\n",
        "            for qa in para[\"qas\"]:\r\n",
        "                question = qa[\"question\"]\r\n",
        "                if \"answers\" in qa:\r\n",
        "                    all_answers = [_[\"text\"] for _ in qa[\"answers\"]]\r\n",
        "                    for answer in qa['answers']:\r\n",
        "                        answer_text = answer[\"text\"]\r\n",
        "                        start_char_idx = qa[\"answers\"][0][\"answer_start\"]\r\n",
        "                        squad_eg = Sample(question, context, start_char_idx, answer_text, all_answers)\r\n",
        "                else:\r\n",
        "                    squad_eg = Sample(question, context)\r\n",
        "                squad_eg.preprocess()\r\n",
        "                squad_examples.append(squad_eg)\r\n",
        "    return squad_examples"
      ],
      "execution_count": 15,
      "outputs": []
    },
    {
      "cell_type": "code",
      "metadata": {
        "id": "yufi_yt-Gfr0"
      },
      "source": [
        "def create_inputs_targets(squad_examples):\r\n",
        "    dataset_dict = {\r\n",
        "        \"input_word_ids\": [],\r\n",
        "        \"input_type_ids\": [],\r\n",
        "        \"input_mask\": [],\r\n",
        "        \"start_token_idx\": [],\r\n",
        "        \"end_token_idx\": [],\r\n",
        "    }\r\n",
        "    for item in squad_examples:\r\n",
        "        if item.skip == False:\r\n",
        "            for key in dataset_dict:\r\n",
        "                dataset_dict[key].append(getattr(item, key))\r\n",
        "    for key in dataset_dict:\r\n",
        "        dataset_dict[key] = np.array(dataset_dict[key])\r\n",
        "    x = [dataset_dict[\"input_word_ids\"],\r\n",
        "         dataset_dict[\"input_mask\"],\r\n",
        "         dataset_dict[\"input_type_ids\"]]\r\n",
        "    y = [dataset_dict[\"start_token_idx\"], dataset_dict[\"end_token_idx\"]]\r\n",
        "    return x, y"
      ],
      "execution_count": 16,
      "outputs": []
    },
    {
      "cell_type": "markdown",
      "metadata": {
        "id": "ovpD8XkfVpTU"
      },
      "source": [
        "#3.Download a BERT model and fine-tune it"
      ]
    },
    {
      "cell_type": "code",
      "metadata": {
        "id": "yoNgYLP2Zvxl"
      },
      "source": [
        "train_path = keras.utils.get_file(\"train.json\", \"https://rajpurkar.github.io/SQuAD-explorer/dataset/train-v2.0.json\")\r\n",
        "eval_path = keras.utils.get_file(\"eval.json\", \"https://rajpurkar.github.io/SQuAD-explorer/dataset/dev-v2.0.json\")\r\n",
        "with open(train_path) as f: raw_train_data = json.load(f)\r\n",
        "with open(eval_path) as f: raw_eval_data = json.load(f)"
      ],
      "execution_count": 92,
      "outputs": []
    },
    {
      "cell_type": "code",
      "metadata": {
        "colab": {
          "base_uri": "https://localhost:8080/"
        },
        "id": "zt6yOOgvw5Kc",
        "outputId": "1913b118-511b-4aea-9c42-f12c3cb8036d"
      },
      "source": [
        "max_seq_length = 384\r\n",
        "bert_layer = hub.KerasLayer(\"https://tfhub.dev/tensorflow/bert_en_uncased_L-12_H-768_A-12/2\", trainable=True)\r\n",
        "# if train online\r\n",
        "!wget https://s3.amazonaws.com/models.huggingface.co/bert/bert-base-uncased-vocab.txt\r\n",
        "tokenizer = BertWordPieceTokenizer('bert-base-uncased-vocab.txt')"
      ],
      "execution_count": 93,
      "outputs": [
        {
          "output_type": "stream",
          "text": [
            "--2021-01-08 18:36:06--  https://s3.amazonaws.com/models.huggingface.co/bert/bert-base-uncased-vocab.txt\n",
            "Resolving s3.amazonaws.com (s3.amazonaws.com)... 52.216.163.157\n",
            "Connecting to s3.amazonaws.com (s3.amazonaws.com)|52.216.163.157|:443... connected.\n",
            "HTTP request sent, awaiting response... 200 OK\n",
            "Length: 231508 (226K) [text/plain]\n",
            "Saving to: ‘bert-base-uncased-vocab.txt.1’\n",
            "\n",
            "bert-base-uncased-v 100%[===================>] 226.08K  --.-KB/s    in 0.1s    \n",
            "\n",
            "2021-01-08 18:36:06 (1.90 MB/s) - ‘bert-base-uncased-vocab.txt.1’ saved [231508/231508]\n",
            "\n"
          ],
          "name": "stdout"
        }
      ]
    },
    {
      "cell_type": "code",
      "metadata": {
        "id": "ei7CLNtyFq06",
        "colab": {
          "base_uri": "https://localhost:8080/"
        },
        "outputId": "d756522d-39b2-43eb-cecc-88639892f043"
      },
      "source": [
        "train_squad_examples = create_squad_examples(raw_train_data)\r\n",
        "x_train, y_train = create_inputs_targets(train_squad_examples)\r\n",
        "print(f\"{len(train_squad_examples)} training points created.\")\r\n",
        "eval_squad_examples = create_squad_examples(raw_eval_data)\r\n",
        "x_eval, y_eval = create_inputs_targets(eval_squad_examples)\r\n",
        "print(f\"{len(eval_squad_examples)} evaluation points created.\")\r\n",
        "\r\n",
        "# tensorflow pipeline\r\n",
        "batch_size = 64\r\n",
        "#train = tf.data.Dataset.from_tensor_slices((x_train, y_train))\r\n",
        "#validation = tf.data.Dataset.from_tensor_slices((x_eval, y_eval))\r\n",
        "#train_dataset = train.cache()\r\n",
        "#train_dataset = train_dataset.shuffle(2048).repeat().batch(batch_size, drop_remainder=True)\r\n",
        "#train_dataset = train_dataset.prefetch(buffer_size=tf.data.experimental.AUTOTUNE)\r\n",
        "#val_dataset = validation.repeat().batch(batch_size, drop_remainder=True)"
      ],
      "execution_count": 94,
      "outputs": [
        {
          "output_type": "stream",
          "text": [
            "130319 training points created.\n",
            "11873 evaluation points created.\n"
          ],
          "name": "stdout"
        }
      ]
    },
    {
      "cell_type": "code",
      "metadata": {
        "id": "Sc0bKp-OGT_3"
      },
      "source": [
        "# Sanity check if all sample in evaluation have all_answers not none\r\n",
        "lst = [i for i in range(len(eval_squad_examples)) if eval_squad_examples[i].all_answers == None and eval_squad_examples[i].skip == False]\r\n",
        "assert len(lst) == 0"
      ],
      "execution_count": 95,
      "outputs": []
    },
    {
      "cell_type": "code",
      "metadata": {
        "id": "LIv78pkmWiDU"
      },
      "source": [
        "# create model\r\n",
        "def create_model():\r\n",
        "    bert_layer = hub.KerasLayer(\"https://tfhub.dev/tensorflow/bert_en_uncased_L-12_H-768_A-12/2\", trainable=True)\r\n",
        "\r\n",
        "    input_word_ids = tf.keras.layers.Input(shape=(max_seq_length,), dtype=tf.int32, name='input_word_ids')\r\n",
        "    input_mask = tf.keras.layers.Input(shape=(max_seq_length,), dtype=tf.int32, name='input_mask')\r\n",
        "    input_type_ids = tf.keras.layers.Input(shape=(max_seq_length,), dtype=tf.int32, name='input_type_ids')\r\n",
        "    pooled_output, sequence_output = bert_layer([input_word_ids, input_mask, input_type_ids])\r\n",
        "    start_logits = tf.keras.layers.Dense(1, name=\"start_logit\", use_bias=False)(sequence_output)\r\n",
        "    start_logits = tf.keras.layers.Flatten()(start_logits)\r\n",
        "    end_logits = tf.keras.layers.Dense(1, name=\"end_logit\", use_bias=False)(sequence_output)\r\n",
        "    end_logits = tf.keras.layers.Flatten()(end_logits)\r\n",
        "    start_probs = tf.keras.layers.Activation(keras.activations.softmax)(start_logits)\r\n",
        "    end_probs = tf.keras.layers.Activation(keras.activations.softmax)(end_logits)\r\n",
        "    model = keras.Model(inputs=[input_word_ids, input_mask, input_type_ids], outputs=[start_probs, end_probs])\r\n",
        "    \r\n",
        "    return model"
      ],
      "execution_count": 96,
      "outputs": []
    },
    {
      "cell_type": "code",
      "metadata": {
        "id": "0txvciDfT3xi"
      },
      "source": [
        "with tpu_strategy.scope(): # creating the model in the TPUStrategy scope means we will train the model on the TPU\r\n",
        "    model = create_model()\r\n",
        "    # setup compile\r\n",
        "    loss = keras.losses.SparseCategoricalCrossentropy(from_logits=False)\r\n",
        "    optimizer = keras.optimizers.Adam(lr=1e-5, beta_1=0.9, beta_2=0.98, epsilon=1e-9)\r\n",
        "    model.compile(optimizer=optimizer, loss=[loss, loss], metrics='accuracy')"
      ],
      "execution_count": 97,
      "outputs": []
    },
    {
      "cell_type": "code",
      "metadata": {
        "colab": {
          "base_uri": "https://localhost:8080/"
        },
        "id": "v8TAHVeC8ba_",
        "outputId": "7e27d2ba-7ed7-400b-fb62-dccfb753d698"
      },
      "source": [
        "model.summary()\r\n",
        "#tf.keras.utils.plot_model(model, \"C:/Users/57lzhang.US04WW4008/Desktop/multi_input_and_output_model.png\", show_shapes=True)"
      ],
      "execution_count": 98,
      "outputs": [
        {
          "output_type": "stream",
          "text": [
            "Model: \"model_2\"\n",
            "__________________________________________________________________________________________________\n",
            "Layer (type)                    Output Shape         Param #     Connected to                     \n",
            "==================================================================================================\n",
            "input_word_ids (InputLayer)     [(None, 384)]        0                                            \n",
            "__________________________________________________________________________________________________\n",
            "input_mask (InputLayer)         [(None, 384)]        0                                            \n",
            "__________________________________________________________________________________________________\n",
            "input_type_ids (InputLayer)     [(None, 384)]        0                                            \n",
            "__________________________________________________________________________________________________\n",
            "keras_layer_4 (KerasLayer)      [(None, 768), (None, 109482241   input_word_ids[0][0]             \n",
            "                                                                 input_mask[0][0]                 \n",
            "                                                                 input_type_ids[0][0]             \n",
            "__________________________________________________________________________________________________\n",
            "start_logit (Dense)             (None, None, 1)      768         keras_layer_4[0][1]              \n",
            "__________________________________________________________________________________________________\n",
            "end_logit (Dense)               (None, None, 1)      768         keras_layer_4[0][1]              \n",
            "__________________________________________________________________________________________________\n",
            "flatten_4 (Flatten)             (None, None)         0           start_logit[0][0]                \n",
            "__________________________________________________________________________________________________\n",
            "flatten_5 (Flatten)             (None, None)         0           end_logit[0][0]                  \n",
            "__________________________________________________________________________________________________\n",
            "activation_4 (Activation)       (None, None)         0           flatten_4[0][0]                  \n",
            "__________________________________________________________________________________________________\n",
            "activation_5 (Activation)       (None, None)         0           flatten_5[0][0]                  \n",
            "==================================================================================================\n",
            "Total params: 109,483,777\n",
            "Trainable params: 109,483,776\n",
            "Non-trainable params: 1\n",
            "__________________________________________________________________________________________________\n"
          ],
          "name": "stdout"
        }
      ]
    },
    {
      "cell_type": "markdown",
      "metadata": {
        "id": "dNP2K8Na4wxN"
      },
      "source": [
        "##Training"
      ]
    },
    {
      "cell_type": "code",
      "metadata": {
        "id": "svbAXn-xbtrh",
        "colab": {
          "base_uri": "https://localhost:8080/"
        },
        "outputId": "51ceff64-001f-42d7-bbdf-bce6508dae5b"
      },
      "source": [
        "model.fit(x_train, y_train, epochs=2, batch_size=batch_size, validation_data=(x_eval, y_eval))"
      ],
      "execution_count": 99,
      "outputs": [
        {
          "output_type": "stream",
          "text": [
            "Epoch 1/2\n"
          ],
          "name": "stdout"
        },
        {
          "output_type": "stream",
          "text": [
            "/usr/local/lib/python3.6/dist-packages/tensorflow/python/framework/indexed_slices.py:437: UserWarning: Converting sparse IndexedSlices(IndexedSlices(indices=Tensor(\"Adam/gradients/StatefulPartitionedCall:1\", shape=(None,), dtype=int32), values=Tensor(\"Adam/gradients/StatefulPartitionedCall:0\", dtype=float32), dense_shape=Tensor(\"Adam/gradients/StatefulPartitionedCall:2\", shape=(None,), dtype=int32))) to a dense Tensor of unknown shape. This may consume a large amount of memory.\n",
            "  \"shape. This may consume a large amount of memory.\" % value)\n"
          ],
          "name": "stderr"
        },
        {
          "output_type": "stream",
          "text": [
            "1992/1992 [==============================] - 488s 209ms/step - loss: 4.2185 - activation_4_loss: 2.1897 - activation_5_loss: 2.0289 - activation_4_accuracy: 0.4587 - activation_5_accuracy: 0.4937 - val_loss: 3.9593 - val_activation_4_loss: 1.2876 - val_activation_5_loss: 2.6717 - val_activation_4_accuracy: 0.6479 - val_activation_5_accuracy: 0.5792\n",
            "Epoch 2/2\n",
            "1992/1992 [==============================] - 368s 185ms/step - loss: 1.7239 - activation_4_loss: 0.9174 - activation_5_loss: 0.8065 - activation_4_accuracy: 0.7227 - activation_5_accuracy: 0.7631 - val_loss: 3.9537 - val_activation_4_loss: 1.2351 - val_activation_5_loss: 2.7186 - val_activation_4_accuracy: 0.6550 - val_activation_5_accuracy: 0.5863\n"
          ],
          "name": "stdout"
        },
        {
          "output_type": "execute_result",
          "data": {
            "text/plain": [
              "<tensorflow.python.keras.callbacks.History at 0x7fc475ed8710>"
            ]
          },
          "metadata": {
            "tags": []
          },
          "execution_count": 99
        }
      ]
    },
    {
      "cell_type": "code",
      "metadata": {
        "id": "D_R-yJwU31qk"
      },
      "source": [
        "model.save_weights(\"./weights.h5\")"
      ],
      "execution_count": 100,
      "outputs": []
    },
    {
      "cell_type": "markdown",
      "metadata": {
        "id": "H2cYcF0_Vvxv"
      },
      "source": [
        "#4.Evaluate the QA model"
      ]
    },
    {
      "cell_type": "code",
      "metadata": {
        "id": "1ih3s4fvBSDE"
      },
      "source": [
        "model.load_weights(\"./weights.h5\")"
      ],
      "execution_count": 47,
      "outputs": []
    },
    {
      "cell_type": "code",
      "metadata": {
        "id": "H5fDpl0Cpf-3"
      },
      "source": [
        "def normalize_text(text):\r\n",
        "    # convert to lower case\r\n",
        "    text = text.lower()\r\n",
        "    # remove redundant whitespaces\r\n",
        "    text = \"\".join(ch for ch in text if ch not in set(string.punctuation))\r\n",
        "    # remove articles\r\n",
        "    regex = re.compile(r\"\\b(a|an|the)\\b\", re.UNICODE)\r\n",
        "    text = re.sub(regex, \" \", text)\r\n",
        "    text = \" \".join(text.split())\r\n",
        "    return text"
      ],
      "execution_count": 109,
      "outputs": []
    },
    {
      "cell_type": "markdown",
      "metadata": {
        "id": "edTQL90wo1CA"
      },
      "source": [
        "##F1 score"
      ]
    },
    {
      "cell_type": "code",
      "metadata": {
        "id": "0_YRaNx2owYT"
      },
      "source": [
        "def compute_f1(raw_test_data):\r\n",
        "    test_squad_samples = create_squad_examples(raw_test_data)\r\n",
        "    x_test, _ = create_inputs_targets(test_squad_samples)\r\n",
        "    pred_start, pred_end = model.predict(x_test)\r\n",
        "\r\n",
        "    test_examples_no_skip = [_ for _ in test_squad_samples if _.skip == False]\r\n",
        "    \r\n",
        "    f1_scores = []\r\n",
        "    for idx, (start, end) in enumerate(zip(pred_start, pred_end)):\r\n",
        "        # take the required Sample object with the ground-truth answers in it\r\n",
        "        squad_eg = test_examples_no_skip[idx]\r\n",
        "        # use offsets to get back the span of text corresponding to\r\n",
        "        # our predicted first and last tokens\r\n",
        "        offsets = squad_eg.context_token_to_char\r\n",
        "        start = np.argmax(start)\r\n",
        "        end = np.argmax(end)\r\n",
        "        if start >= len(offsets):\r\n",
        "            f1_scores.append(0)\r\n",
        "            continue\r\n",
        "        pred_char_start = offsets[start][0]\r\n",
        "        if end < len(offsets):\r\n",
        "            pred_char_end = offsets[end][1]\r\n",
        "            pred_ans = squad_eg.context[pred_char_start:pred_char_end]\r\n",
        "        else:\r\n",
        "            pred_ans = squad_eg.context[pred_char_start:]\r\n",
        "        normalized_pred_ans = normalize_text(pred_ans)\r\n",
        "        pred_tokens = normalized_pred_ans.split()\r\n",
        "        \r\n",
        "        max_f1 = float('-inf')\r\n",
        "        normalized_true_ans_lst = [normalize_text(_) for _ in squad_eg.all_answers]\r\n",
        "        for normalized_true_ans in normalized_true_ans_lst:\r\n",
        "            truth_tokens = normalized_true_ans.split()\r\n",
        "            \r\n",
        "            # if either the prediction or the truth is no-answer then f1 = 1 if they agree, 0 otherwise\r\n",
        "            if len(pred_tokens) == 0 or len(truth_tokens) == 0:\r\n",
        "                max_f1 = max(max_f1, int(pred_tokens == truth_tokens))\r\n",
        "                continue\r\n",
        "            \r\n",
        "            common_tokens = set(pred_tokens) & set(truth_tokens)\r\n",
        "            # if there are no common tokens then f1 = 0\r\n",
        "            if len(common_tokens) == 0:\r\n",
        "                max_f1 = max(max_f1, 0)\r\n",
        "            \r\n",
        "            else:\r\n",
        "                prec = len(common_tokens) / len(pred_tokens)\r\n",
        "                rec = len(common_tokens) / len(truth_tokens)   \r\n",
        "                max_f1 = max(max_f1, 2 * (prec * rec) / (prec + rec))\r\n",
        "        \r\n",
        "        f1_scores.append(max_f1)\r\n",
        "\r\n",
        "    print(f\"f1 score={np.mean(f1_scores):.2f}\")\r\n",
        "    return f1_scores"
      ],
      "execution_count": 114,
      "outputs": []
    },
    {
      "cell_type": "code",
      "metadata": {
        "colab": {
          "base_uri": "https://localhost:8080/"
        },
        "id": "SYweu-fsPqOc",
        "outputId": "11ffa642-032f-4368-f610-0f2709d6a27b"
      },
      "source": [
        "f1_scores = compute_f1(raw_eval_data)"
      ],
      "execution_count": 115,
      "outputs": [
        {
          "output_type": "stream",
          "text": [
            "f1 score=0.82\n"
          ],
          "name": "stdout"
        }
      ]
    },
    {
      "cell_type": "markdown",
      "metadata": {
        "id": "X2dwt1cNo3F8"
      },
      "source": [
        "##EM (exact match)"
      ]
    },
    {
      "cell_type": "code",
      "metadata": {
        "id": "QiRyM9qgwjlP"
      },
      "source": [
        "def exact_match_score(raw_test_data):\r\n",
        "    test_squad_samples = create_squad_examples(raw_test_data)\r\n",
        "    x_test, _ = create_inputs_targets(test_squad_samples)\r\n",
        "    pred_start, pred_end = model.predict(x_test)\r\n",
        "\r\n",
        "    test_examples_no_skip = [_ for _ in test_squad_samples if _.skip == False]\r\n",
        "    \r\n",
        "    count = 0\r\n",
        "\r\n",
        "    for idx, (start, end) in enumerate(zip(pred_start, pred_end)):\r\n",
        "        # take the required Sample object with the ground-truth answers in it\r\n",
        "        squad_eg = test_examples_no_skip[idx]\r\n",
        "        # use offsets to get back the span of text corresponding to\r\n",
        "        # our predicted first and last tokens\r\n",
        "        offsets = squad_eg.context_token_to_char\r\n",
        "        start = np.argmax(start)\r\n",
        "        end = np.argmax(end)\r\n",
        "        if start >= len(offsets):\r\n",
        "            continue\r\n",
        "        pred_char_start = offsets[start][0]\r\n",
        "        if end < len(offsets):\r\n",
        "            pred_char_end = offsets[end][1]\r\n",
        "            pred_ans = squad_eg.context[pred_char_start:pred_char_end]\r\n",
        "        else:\r\n",
        "            pred_ans = squad_eg.context[pred_char_start:]\r\n",
        "        normalized_pred_ans = normalize_text(pred_ans)\r\n",
        "        # clean the real answers\r\n",
        "        normalized_true_ans_lst = [normalize_text(_) for _ in squad_eg.all_answers]\r\n",
        "        # check if the predicted answer is in an array of the ground-truth answers\r\n",
        "        if normalized_pred_ans in normalized_true_ans_lst:\r\n",
        "            count += 1\r\n",
        "    acc = count / len(x_test[0])\r\n",
        "    print(f\"exact match score={acc:.2f}\")"
      ],
      "execution_count": 112,
      "outputs": []
    },
    {
      "cell_type": "code",
      "metadata": {
        "colab": {
          "base_uri": "https://localhost:8080/"
        },
        "id": "_OzfPRb1Hh5t",
        "outputId": "50132f1d-fb50-461d-98ed-41cf6a263a5f"
      },
      "source": [
        "exact_match_score(raw_eval_data)"
      ],
      "execution_count": 113,
      "outputs": [
        {
          "output_type": "stream",
          "text": [
            "exact match score=0.74\n"
          ],
          "name": "stdout"
        }
      ]
    },
    {
      "cell_type": "markdown",
      "metadata": {
        "id": "a9Z-DNTHox3-"
      },
      "source": [
        "##Examples"
      ]
    },
    {
      "cell_type": "code",
      "metadata": {
        "id": "Z3f9OMcUll8o"
      },
      "source": [
        "def evaluate_qa_model(raw_test_data, verbose=True):\r\n",
        "    test_samples = create_squad_examples(raw_test_data)\r\n",
        "    x_test, _ = create_inputs_targets(test_samples)\r\n",
        "    pred_start, pred_end = model.predict(x_test)\r\n",
        "    pred_ans_lst = []\r\n",
        "    for idx, (start, end) in enumerate(zip(pred_start, pred_end)):\r\n",
        "        test_sample = test_samples[idx]\r\n",
        "        offsets = test_sample.context_token_to_char\r\n",
        "        start = np.argmax(start)\r\n",
        "        end = np.argmax(end)\r\n",
        "        pred_ans = None\r\n",
        "        if start >= len(offsets):\r\n",
        "            continue\r\n",
        "        pred_char_start = offsets[start][0]\r\n",
        "        if end < len(offsets):\r\n",
        "            pred_ans = test_sample.context[pred_char_start:offsets[end][1]]\r\n",
        "        else:\r\n",
        "            pred_ans = test_sample.context[pred_char_start:]\r\n",
        "        \r\n",
        "        pred_ans_lst.append(pred_ans)\r\n",
        "\r\n",
        "        if verbose: \r\n",
        "            print(\"Q: \" + test_sample.question)\r\n",
        "            print(\"A: \" + pred_ans)\r\n",
        "    \r\n",
        "    return pred_ans_lst"
      ],
      "execution_count": 108,
      "outputs": []
    },
    {
      "cell_type": "code",
      "metadata": {
        "colab": {
          "base_uri": "https://localhost:8080/"
        },
        "id": "fuuiC3rOmhwI",
        "outputId": "c1b589ab-c2f4-4e75-b135-0ba09e573607"
      },
      "source": [
        "data = {\"data\":\r\n",
        "    [\r\n",
        "        {\"title\": \"Clinical note\",\r\n",
        "         \"paragraphs\": [\r\n",
        "             {\r\n",
        "                 \"context\": \"Abnormal echocardiogram findings and followup. Shortness of breath, congestive heart failure, \"\r\n",
        "                            \"and valvular insufficiency. The patient complains of shortness of breath, which is worsening. \"\r\n",
        "                            \"The patient underwent an echocardiogram, which shows severe mitral regurgitation and also large \"\r\n",
        "                            \"pleural effusion. The patient is an 86-year-old female admitted for evaluation of abdominal pain \"\r\n",
        "                            \"and bloody stools. The patient has colitis and also diverticulitis, undergoing treatment.\"\r\n",
        "                            \"During the hospitalization, the patient complains of shortness of breath, which is worsening.\"\r\n",
        "                            \"The patient underwent an echocardiogram, which shows severe mitral regurgitation and also large \"\r\n",
        "                            \"pleural effusion. This consultation is for further evaluation in this regard. As per the patient, \"\r\n",
        "                            \"she is an 86-year-old female, has limited activity level. She has been having shortness of breath \"\r\n",
        "                            \"for many years. She also was told that she has a heart murmur, which was not followed through \"\r\n",
        "                            \"on a regular basis.\",\r\n",
        "                 \"qas\": [\r\n",
        "                     {\"question\": \"How old is the patient?\",\r\n",
        "                      \"id\": \"Q1\"\r\n",
        "                      },\r\n",
        "                     {\"question\": \"Does the patient have any complaints?\",\r\n",
        "                      \"id\": \"Q2\"\r\n",
        "                      },\r\n",
        "                     {\"question\":\"What is the reason for this consultation?\",\r\n",
        "                      \"id\": \"Q3\"\r\n",
        "                      },\r\n",
        "                     {\"question\": \"What does her echocardiogram show?\",\r\n",
        "                      \"id\": \"Q4\"\r\n",
        "                      },\r\n",
        "                     {\"question\": \"What other symptoms does the patient have?\",\r\n",
        "                      \"id\": \"Q5\"\r\n",
        "                      },\r\n",
        "                     {\"question\": \"What's the gender of this patient?\",\r\n",
        "                      \"id\": \"Q6\"\r\n",
        "                      }\r\n",
        "                 ]}]}]}\r\n",
        "\r\n",
        "pred_ans_lst = evaluate_qa_model(data)"
      ],
      "execution_count": 107,
      "outputs": [
        {
          "output_type": "stream",
          "text": [
            "Q: How old is the patient?\n",
            "A: 86\n",
            "Q: Does the patient have any complaints?\n",
            "A: The patient complains of shortness of breath\n",
            "Q: What is the reason for this consultation?\n",
            "A: for further evaluation\n",
            "Q: What does her echocardiogram show?\n",
            "A: severe mitral regurgitation and also large pleural effusion\n",
            "Q: What other symptoms does the patient have?\n",
            "A: colitis and also diverticulitis\n",
            "Q: What's the gender of this patient?\n",
            "A: 86-year-old female\n"
          ],
          "name": "stdout"
        }
      ]
    },
    {
      "cell_type": "code",
      "metadata": {
        "colab": {
          "base_uri": "https://localhost:8080/"
        },
        "id": "9fBHOr60j7Yj",
        "outputId": "4b71e846-2b99-42eb-c8e2-53f75859ba7f"
      },
      "source": [
        "data = {\"data\":\r\n",
        "    [\r\n",
        "        {\"title\": \"Project Apollo\",\r\n",
        "         \"paragraphs\": [\r\n",
        "             {\r\n",
        "                 \"context\": \"The Apollo program, also known as Project Apollo, was the third United States human \"\r\n",
        "                            \"spaceflight program carried out by the National Aeronautics and Space Administration (\"\r\n",
        "                            \"NASA), which accomplished landing the first humans on the Moon from 1969 to 1972. First \"\r\n",
        "                            \"conceived during Dwight D. Eisenhower's administration as a three-man spacecraft to \"\r\n",
        "                            \"follow the one-man Project Mercury which put the first Americans in space, Apollo was \"\r\n",
        "                            \"later dedicated to President John F. Kennedy's national goal of landing a man on the \"\r\n",
        "                            \"Moon and returning him safely to the Earth by the end of the 1960s, which he proposed in \"\r\n",
        "                            \"a May 25, 1961, address to Congress. Project Mercury was followed by the two-man Project \"\r\n",
        "                            \"Gemini. The first manned flight of Apollo was in 1968. Apollo ran from 1961 to 1972, \"\r\n",
        "                            \"and was supported by the two man Gemini program which ran concurrently with it from 1962 \"\r\n",
        "                            \"to 1966. Gemini missions developed some of the space travel techniques that were \"\r\n",
        "                            \"necessary for the success of the Apollo missions. Apollo used Saturn family rockets as \"\r\n",
        "                            \"launch vehicles. Apollo/Saturn vehicles were also used for an Apollo Applications \"\r\n",
        "                            \"Program, which consisted of Skylab, a space station that supported three manned missions \"\r\n",
        "                            \"in 1973-74, and the Apollo-Soyuz Test Project, a joint Earth orbit mission with the \"\r\n",
        "                            \"Soviet Union in 1975.\",\r\n",
        "                 \"qas\": [\r\n",
        "                     {\"question\": \"What project put the first Americans into space?\",\r\n",
        "                      \"id\": \"Q1\"\r\n",
        "                      },\r\n",
        "                     {\"question\": \"What program was created to carry out these projects and missions?\",\r\n",
        "                      \"id\": \"Q2\"\r\n",
        "                      },\r\n",
        "                     {\"question\": \"What year did the first manned Apollo flight occur?\",\r\n",
        "                      \"id\": \"Q3\"\r\n",
        "                      },\r\n",
        "                     {\"question\": \"What President is credited with the original notion of putting Americans in space?\",\r\n",
        "                      \"id\": \"Q4\"\r\n",
        "                      },\r\n",
        "                     {\"question\": \"Who did the U.S. collaborate with on an Earth orbit mission in 1975?\",\r\n",
        "                      \"id\": \"Q5\"\r\n",
        "                      },\r\n",
        "                     {\"question\": \"How long did Project Apollo run?\",\r\n",
        "                      \"id\": \"Q6\"\r\n",
        "                      },\r\n",
        "                     {\"question\": \"What program helped develop space travel techniques that Project Apollo used?\",\r\n",
        "                      \"id\": \"Q7\"\r\n",
        "                      },\r\n",
        "                     {\"question\": \"What space station supported three manned missions in 1973-1974?\",\r\n",
        "                      \"id\": \"Q8\"\r\n",
        "                      }\r\n",
        "                 ]}]}]}\r\n",
        "\r\n",
        "\r\n",
        "pred_ans_lst = evaluate_qa_model(data)"
      ],
      "execution_count": 88,
      "outputs": [
        {
          "output_type": "stream",
          "text": [
            "Q: What project put the first Americans into space?\n",
            "A: Project Mercury\n",
            "Q: What program was created to carry out these projects and missions?\n",
            "A: Project Apollo\n",
            "Q: What year did the first manned Apollo flight occur?\n",
            "A: 1968\n",
            "Q: What President is credited with the original notion of putting Americans in space?\n",
            "A: John F. Kennedy\n",
            "Q: Who did the U.S. collaborate with on an Earth orbit mission in 1975?\n",
            "A: Soviet Union\n",
            "Q: How long did Project Apollo run?\n",
            "A: 1961 to 1972\n",
            "Q: What program helped develop space travel techniques that Project Apollo used?\n",
            "A: Gemini\n",
            "Q: What space station supported three manned missions in 1973-1974?\n",
            "A: Skylab\n"
          ],
          "name": "stdout"
        }
      ]
    },
    {
      "cell_type": "code",
      "metadata": {
        "id": "ZtcLf9j0Zlf3",
        "outputId": "429c8216-38b8-4236-daf4-b3d2b3a11c5b",
        "colab": {
          "base_uri": "https://localhost:8080/"
        }
      },
      "source": [
        "data = {\"data\":\r\n",
        "    [\r\n",
        "        {\"title\": \"Project Apollo\",\r\n",
        "         \"paragraphs\": [\r\n",
        "             {\r\n",
        "                 \"context\": \"The word pharmacy is derived from its root word pharma which was a term used since \"\r\n",
        "                            \"the 15th–17th centuries. However, the original Greek roots from pharmakos imply sorcery \"\r\n",
        "                            \"or even poison. In addition to pharma responsibilities, the pharma offered general medical \"\r\n",
        "                            \"advice and a range of services that are now performed solely by other specialist practitioners, \"\r\n",
        "                            \"such as surgery and midwifery. The pharma (as it was referred to) often operated through a \"\r\n",
        "                            \"retail shop which, in addition to ingredients for medicines, sold tobacco and patent medicines. \"\r\n",
        "                            \"Often the place that did this was called an apothecary and several languages have this as the \"\r\n",
        "                            \"dominant term, though their practices are more akin to a modern pharmacy, in English the term \"\r\n",
        "                            \"apothecary would today be seen as outdated or only approproriate if herbal remedies were on offer \"\r\n",
        "                            \"to a large extent. The pharmas also used many other herbs not listed. The Greek word Pharmakeia \"\r\n",
        "                            \"(Greek: φαρμακεία) derives from pharmakon (φάρμακον), meaning 'drug', 'medicine' (or 'poison').\",\r\n",
        "                 \"qas\": [\r\n",
        "                     {\"question\": \"What word is the word pharmacy taken from??\",\r\n",
        "                      \"id\": \"Q1\"\r\n",
        "                      },\r\n",
        "                    {\"question\": \"When is the word pharmacy derived??\",\r\n",
        "                      \"id\": \"Q2\"\r\n",
        "                      },\r\n",
        "                    {\"question\": \"How did pharma operate??\",\r\n",
        "                      \"id\": \"Q3\"\r\n",
        "                      }\r\n",
        "                 ]}]}]}\r\n",
        "\r\n",
        "\r\n",
        "pred_ans_lst = evaluate_qa_model(data)"
      ],
      "execution_count": 118,
      "outputs": [
        {
          "output_type": "stream",
          "text": [
            "Q: What word is the word pharmacy taken from??\n",
            "A: pharma\n",
            "Q: When is the word pharmacy derived??\n",
            "A: 15th–17th centuries\n",
            "Q: How did pharma operate??\n",
            "A: through a retail shop\n"
          ],
          "name": "stdout"
        }
      ]
    },
    {
      "cell_type": "markdown",
      "metadata": {
        "id": "CkHR8UBXVxyv"
      },
      "source": [
        "#5.Deploy the model on Django"
      ]
    }
  ]
}