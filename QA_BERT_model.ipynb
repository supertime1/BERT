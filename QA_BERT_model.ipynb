{
  "nbformat": 4,
  "nbformat_minor": 0,
  "metadata": {
    "colab": {
      "name": "QA BERT model.ipynb",
      "provenance": [],
      "collapsed_sections": [
        "xz4W_-pMVJsX",
        "ovpD8XkfVpTU",
        "H2cYcF0_Vvxv",
        "CkHR8UBXVxyv"
      ],
      "machine_shape": "hm",
      "authorship_tag": "ABX9TyNGIhd0EnnHvjgl4fmKp4y8",
      "include_colab_link": true
    },
    "kernelspec": {
      "name": "python3",
      "display_name": "Python 3"
    },
    "accelerator": "TPU"
  },
  "cells": [
    {
      "cell_type": "markdown",
      "metadata": {
        "id": "view-in-github",
        "colab_type": "text"
      },
      "source": [
        "<a href=\"https://colab.research.google.com/github/supertime1/BERT/blob/main/QA_BERT_model.ipynb\" target=\"_parent\"><img src=\"https://colab.research.google.com/assets/colab-badge.svg\" alt=\"Open In Colab\"/></a>"
      ]
    },
    {
      "cell_type": "markdown",
      "metadata": {
        "id": "xz4W_-pMVJsX"
      },
      "source": [
        "#1.Import Dependencies"
      ]
    },
    {
      "cell_type": "code",
      "metadata": {
        "id": "gsGeLLt-Z4ot"
      },
      "source": [
        "%%capture\r\n",
        "!pip install tokenizers\r\n",
        "!pip install -U tensorflow_text\r\n",
        "!pip install -q -U tf-models-official"
      ],
      "execution_count": 1,
      "outputs": []
    },
    {
      "cell_type": "code",
      "metadata": {
        "id": "orAMKxKkU_Vh"
      },
      "source": [
        "import os\r\n",
        "import tensorflow.keras as keras\r\n",
        "import tensorflow as tf\r\n",
        "import tensorflow_hub as hub\r\n",
        "import tensorflow_datasets as tfds\r\n",
        "import tensorflow_text as text  # A dependency of the preprocessing model\r\n",
        "import tensorflow_addons as tfa\r\n",
        "from official.nlp import optimization, bert\r\n",
        "import numpy as np\r\n",
        "import json\r\n",
        "from tokenizers import BertWordPieceTokenizer\r\n",
        "import string\r\n",
        "import re\r\n",
        "tf.get_logger().setLevel('ERROR')\r\n",
        "import official.nlp.bert.tokenization"
      ],
      "execution_count": 2,
      "outputs": []
    },
    {
      "cell_type": "code",
      "metadata": {
        "id": "2DV8xkuNq4vc"
      },
      "source": [
        "os.environ[\"TFHUB_MODEL_LOAD_FORMAT\"]=\"UNCOMPRESSED\""
      ],
      "execution_count": 3,
      "outputs": []
    },
    {
      "cell_type": "code",
      "metadata": {
        "colab": {
          "base_uri": "https://localhost:8080/"
        },
        "id": "3I6GNqFKSkt8",
        "outputId": "f09a8b3f-92d9-409d-ae93-2a1ab43b7e5c"
      },
      "source": [
        "try:\r\n",
        "  tpu = tf.distribute.cluster_resolver.TPUClusterResolver()  # TPU detection\r\n",
        "  print('Running on TPU ', tpu.cluster_spec().as_dict()['worker'])\r\n",
        "except ValueError:\r\n",
        "  raise BaseException('ERROR: Not connected to a TPU runtime; please see the previous cell in this notebook for instructions!')\r\n",
        "\r\n",
        "tf.config.experimental_connect_to_cluster(tpu)\r\n",
        "tf.tpu.experimental.initialize_tpu_system(tpu)\r\n",
        "tpu_strategy = tf.distribute.TPUStrategy(tpu)"
      ],
      "execution_count": 4,
      "outputs": [
        {
          "output_type": "stream",
          "text": [
            "Running on TPU  ['10.106.145.122:8470']\n"
          ],
          "name": "stdout"
        }
      ]
    },
    {
      "cell_type": "code",
      "metadata": {
        "id": "KJaLqPyo6JhW",
        "colab": {
          "base_uri": "https://localhost:8080/"
        },
        "outputId": "50a1c0ba-6e44-4b93-ed38-1e9b90f6c4bf"
      },
      "source": [
        "from tensorflow.python.client import device_lib \r\n",
        "print(device_lib.list_local_devices())"
      ],
      "execution_count": 5,
      "outputs": [
        {
          "output_type": "stream",
          "text": [
            "[name: \"/device:CPU:0\"\n",
            "device_type: \"CPU\"\n",
            "memory_limit: 268435456\n",
            "locality {\n",
            "}\n",
            "incarnation: 14974016897530751363\n",
            "]\n"
          ],
          "name": "stdout"
        }
      ]
    },
    {
      "cell_type": "code",
      "metadata": {
        "id": "GqtflcAO6W9x",
        "colab": {
          "base_uri": "https://localhost:8080/"
        },
        "outputId": "df9ecd58-e865-4945-b484-a8fd8a52f127"
      },
      "source": [
        "tf.test.is_gpu_available(cuda_only=False, min_cuda_compute_capability=None)"
      ],
      "execution_count": 6,
      "outputs": [
        {
          "output_type": "execute_result",
          "data": {
            "text/plain": [
              "False"
            ]
          },
          "metadata": {
            "tags": []
          },
          "execution_count": 6
        }
      ]
    },
    {
      "cell_type": "markdown",
      "metadata": {
        "id": "Zlt53u2UVlb-"
      },
      "source": [
        "#2.Helper functions"
      ]
    },
    {
      "cell_type": "code",
      "metadata": {
        "id": "kh_mG7LuzHso"
      },
      "source": [
        "class Sample:\r\n",
        "  def __init__(self, question, context, start_char_idx=None, answer_text=None, all_answers=None):\r\n",
        "    self.question = question\r\n",
        "    self.context = context\r\n",
        "    self.start_char_idx = start_char_idx\r\n",
        "    self.answer_text = answer_text\r\n",
        "    self.all_answers = all_answers\r\n",
        "    self.skip = False\r\n",
        "    self.start_token_idx = -1\r\n",
        "    self.end_token_idx = -1\r\n",
        "  \r\n",
        "  def preprocess(self):\r\n",
        "  # remove multipe whitespace between characters\r\n",
        "    context = \" \".join(str(self.context).split())\r\n",
        "    question = \" \".join(str(self.question).split())\r\n",
        "    # tokenize context and question\r\n",
        "    tokenized_context = tokenizer.encode(context)\r\n",
        "    tokenized_question = tokenizer.encode(question)\r\n",
        "    # preprocess answer if this is a validation or training sample\r\n",
        "    if self.answer_text:\r\n",
        "      answer = \" \".join(str(self.answer_text).split())\r\n",
        "      # find the end character index\r\n",
        "      end_char_idx = self.start_char_idx + len(answer)\r\n",
        "      \r\n",
        "      # sometimes squad answers are off by a character or two – fix this\r\n",
        "      if context[self.start_char_idx-1:end_char_idx-1] == answer:\r\n",
        "          self.start_char_idx -= 1\r\n",
        "          end_char_idx -= 1\r\n",
        "      elif context[self.start_char_idx-2:end_char_idx-2] == answer:\r\n",
        "          self.start_char_idx -= 2\r\n",
        "          end_char_idx -= 2\r\n",
        "      \r\n",
        "      # check if end character index is in the context\r\n",
        "      if end_char_idx >= len(context):\r\n",
        "        self.skip = True\r\n",
        "        return\r\n",
        "      # mark all the character indexes in context that are also in answer\r\n",
        "      is_char_in_ans = [0] * len(context)\r\n",
        "      for idx in range(self.start_char_idx, end_char_idx):\r\n",
        "        is_char_in_ans[idx] = 1\r\n",
        "      # find all the tokens that are in the answers\r\n",
        "      ans_token_idx = []\r\n",
        "      for idx, (start, end) in enumerate(tokenized_context.offsets):\r\n",
        "        if sum(is_char_in_ans[start:end]) > 0:\r\n",
        "          ans_token_idx.append(idx)\r\n",
        "      if len(ans_token_idx) == 0:\r\n",
        "        self.skip = True\r\n",
        "        return\r\n",
        "      # get start and end token indexes\r\n",
        "      self.start_token_idx = ans_token_idx[0]\r\n",
        "      self.end_token_idx = ans_token_idx[-1]\r\n",
        "\r\n",
        "    # create inputs as usual\r\n",
        "    input_ids = tokenized_context.ids + tokenized_question.ids[1:]\r\n",
        "    attention_mask = [1] * len(input_ids)\r\n",
        "    token_type_ids = [0] * len(tokenized_context.ids) + [1] * len(tokenized_question.ids[1:])\r\n",
        "    padding_length = max_seq_length - len(input_ids)\r\n",
        "    # add padding if necessary\r\n",
        "    if padding_length > 0:\r\n",
        "      input_ids += [0] * padding_length\r\n",
        "      attention_mask += [0] * padding_length\r\n",
        "      token_type_ids += [0] * padding_length\r\n",
        "\r\n",
        "    elif padding_length < 0:\r\n",
        "      self.skip = True\r\n",
        "      return\r\n",
        "\r\n",
        "    self.input_word_ids = input_ids\r\n",
        "    self.input_type_ids = token_type_ids\r\n",
        "    self.input_mask = attention_mask\r\n",
        "    self.context_token_to_char = tokenized_context.offsets"
      ],
      "execution_count": 7,
      "outputs": []
    },
    {
      "cell_type": "code",
      "metadata": {
        "id": "XP3Lxs7CDap7"
      },
      "source": [
        "def create_squad_examples(raw_data):\r\n",
        "    squad_examples = []\r\n",
        "    for item in raw_data[\"data\"]:\r\n",
        "        for para in item[\"paragraphs\"]:\r\n",
        "            context = para[\"context\"]\r\n",
        "            for qa in para[\"qas\"]:\r\n",
        "                question = qa[\"question\"]\r\n",
        "                if \"answers\" in qa and qa[\"answers\"] != []:\r\n",
        "                    all_answers = [_[\"text\"] for _ in qa[\"answers\"]]\r\n",
        "                    for answer in qa['answers']:\r\n",
        "                        answer_text = answer[\"text\"]\r\n",
        "                        start_char_idx = answer[\"answer_start\"]\r\n",
        "                        squad_eg = Sample(question, context, start_char_idx, answer_text, all_answers)\r\n",
        "                else:\r\n",
        "                    squad_eg = Sample(question, context)\r\n",
        "                squad_eg.preprocess()\r\n",
        "                squad_examples.append(squad_eg)\r\n",
        "    return squad_examples"
      ],
      "execution_count": 140,
      "outputs": []
    },
    {
      "cell_type": "code",
      "metadata": {
        "id": "yufi_yt-Gfr0"
      },
      "source": [
        "def create_inputs_targets(squad_examples):\r\n",
        "    dataset_dict = {\r\n",
        "        \"input_word_ids\": [],\r\n",
        "        \"input_type_ids\": [],\r\n",
        "        \"input_mask\": [],\r\n",
        "        \"start_token_idx\": [],\r\n",
        "        \"end_token_idx\": [],\r\n",
        "    }\r\n",
        "    for item in squad_examples:\r\n",
        "        if item.skip == False:\r\n",
        "            for key in dataset_dict:\r\n",
        "                dataset_dict[key].append(getattr(item, key))\r\n",
        "    for key in dataset_dict:\r\n",
        "        dataset_dict[key] = np.array(dataset_dict[key])\r\n",
        "    x = [dataset_dict[\"input_word_ids\"],\r\n",
        "         dataset_dict[\"input_mask\"],\r\n",
        "         dataset_dict[\"input_type_ids\"]]\r\n",
        "    y = [dataset_dict[\"start_token_idx\"], dataset_dict[\"end_token_idx\"]]\r\n",
        "    return x, y"
      ],
      "execution_count": 9,
      "outputs": []
    },
    {
      "cell_type": "markdown",
      "metadata": {
        "id": "ovpD8XkfVpTU"
      },
      "source": [
        "#3.Download a BERT model and fine-tune it"
      ]
    },
    {
      "cell_type": "code",
      "metadata": {
        "id": "yoNgYLP2Zvxl",
        "colab": {
          "base_uri": "https://localhost:8080/"
        },
        "outputId": "cc71d8fe-f9cb-42d2-abbc-434c6f6bf873"
      },
      "source": [
        "train_path = keras.utils.get_file(\"train.json\", \"https://rajpurkar.github.io/SQuAD-explorer/dataset/train-v2.0.json\")\r\n",
        "eval_path = keras.utils.get_file(\"eval.json\", \"https://rajpurkar.github.io/SQuAD-explorer/dataset/dev-v2.0.json\")\r\n",
        "with open(train_path) as f: raw_train_data = json.load(f)\r\n",
        "with open(eval_path) as f: raw_eval_data = json.load(f)"
      ],
      "execution_count": 10,
      "outputs": [
        {
          "output_type": "stream",
          "text": [
            "Downloading data from https://rajpurkar.github.io/SQuAD-explorer/dataset/train-v2.0.json\n",
            "42131456/42123633 [==============================] - 1s 0us/step\n",
            "Downloading data from https://rajpurkar.github.io/SQuAD-explorer/dataset/dev-v2.0.json\n",
            "4374528/4370528 [==============================] - 0s 0us/step\n"
          ],
          "name": "stdout"
        }
      ]
    },
    {
      "cell_type": "code",
      "metadata": {
        "colab": {
          "base_uri": "https://localhost:8080/"
        },
        "id": "zt6yOOgvw5Kc",
        "outputId": "c1a42601-1080-4c90-d536-9dc8d6adbbb8"
      },
      "source": [
        "max_seq_length = 384\r\n",
        "bert_layer = hub.KerasLayer(\"https://tfhub.dev/tensorflow/bert_en_uncased_L-12_H-768_A-12/2\",\r\n",
        "                            trainable=True)\r\n",
        "!wget https://s3.amazonaws.com/models.huggingface.co/bert/bert-base-uncased-vocab.txt\r\n",
        "tokenizer = BertWordPieceTokenizer('bert-base-uncased-vocab.txt')"
      ],
      "execution_count": 11,
      "outputs": [
        {
          "output_type": "stream",
          "text": [
            "--2021-01-14 01:35:32--  https://s3.amazonaws.com/models.huggingface.co/bert/bert-base-uncased-vocab.txt\n",
            "Resolving s3.amazonaws.com (s3.amazonaws.com)... 52.217.10.6\n",
            "Connecting to s3.amazonaws.com (s3.amazonaws.com)|52.217.10.6|:443... connected.\n",
            "HTTP request sent, awaiting response... 200 OK\n",
            "Length: 231508 (226K) [text/plain]\n",
            "Saving to: ‘bert-base-uncased-vocab.txt’\n",
            "\n",
            "bert-base-uncased-v 100%[===================>] 226.08K  --.-KB/s    in 0.09s   \n",
            "\n",
            "2021-01-14 01:35:33 (2.50 MB/s) - ‘bert-base-uncased-vocab.txt’ saved [231508/231508]\n",
            "\n"
          ],
          "name": "stdout"
        }
      ]
    },
    {
      "cell_type": "code",
      "metadata": {
        "id": "ei7CLNtyFq06",
        "colab": {
          "base_uri": "https://localhost:8080/"
        },
        "outputId": "c19acef7-1cb8-4b21-9c3b-290cb0243927"
      },
      "source": [
        "train_squad_examples = create_squad_examples(raw_train_data)\r\n",
        "x_train, y_train = create_inputs_targets(train_squad_examples)\r\n",
        "print(f\"{len(train_squad_examples)} training points created.\")\r\n",
        "eval_squad_examples = create_squad_examples(raw_eval_data)\r\n",
        "x_eval, y_eval = create_inputs_targets(eval_squad_examples)\r\n",
        "print(f\"{len(eval_squad_examples)} evaluation points created.\")\r\n",
        "\r\n",
        "# tensorflow pipeline\r\n",
        "batch_size = 64\r\n",
        "#train = tf.data.Dataset.from_tensor_slices((x_train, y_train))\r\n",
        "#validation = tf.data.Dataset.from_tensor_slices((x_eval, y_eval))\r\n",
        "#train_dataset = train.cache()\r\n",
        "#train_dataset = train_dataset.shuffle(2048).repeat().batch(batch_size, drop_remainder=True)\r\n",
        "#train_dataset = train_dataset.prefetch(buffer_size=tf.data.experimental.AUTOTUNE)\r\n",
        "#val_dataset = validation.repeat().batch(batch_size, drop_remainder=True)"
      ],
      "execution_count": 12,
      "outputs": [
        {
          "output_type": "stream",
          "text": [
            "130319 training points created.\n",
            "11873 evaluation points created.\n"
          ],
          "name": "stdout"
        }
      ]
    },
    {
      "cell_type": "code",
      "metadata": {
        "id": "Sc0bKp-OGT_3",
        "colab": {
          "base_uri": "https://localhost:8080/"
        },
        "outputId": "6b5e3a7e-e3fc-4a98-bc8c-c75f29d22790"
      },
      "source": [
        "# Sanity check if all sample in evaluation have all_answers not none\r\n",
        "lst = [i for i in range(len(eval_squad_examples)) if eval_squad_examples[i].all_answers == None and eval_squad_examples[i].skip == False]\r\n",
        "print(f\"There are {len(lst)} samples have no answers.\")"
      ],
      "execution_count": 13,
      "outputs": [
        {
          "output_type": "stream",
          "text": [
            "There are 5840 samples have no answers.\n"
          ],
          "name": "stdout"
        }
      ]
    },
    {
      "cell_type": "code",
      "metadata": {
        "id": "LIv78pkmWiDU"
      },
      "source": [
        "# create model\r\n",
        "def create_model():\r\n",
        "    bert_layer = hub.KerasLayer(\"https://tfhub.dev/tensorflow/bert_en_uncased_L-12_H-768_A-12/2\", trainable=True)\r\n",
        "\r\n",
        "    input_word_ids = tf.keras.layers.Input(shape=(max_seq_length,), dtype=tf.int32, name='input_word_ids')\r\n",
        "    input_mask = tf.keras.layers.Input(shape=(max_seq_length,), dtype=tf.int32, name='input_mask')\r\n",
        "    input_type_ids = tf.keras.layers.Input(shape=(max_seq_length,), dtype=tf.int32, name='input_type_ids')\r\n",
        "    pooled_output, sequence_output = bert_layer([input_word_ids, input_mask, input_type_ids])\r\n",
        "    start_logits = tf.keras.layers.Dense(1, name=\"start_logit\", use_bias=False)(sequence_output)\r\n",
        "    start_logits = tf.keras.layers.Flatten()(start_logits)\r\n",
        "    end_logits = tf.keras.layers.Dense(1, name=\"end_logit\", use_bias=False)(sequence_output)\r\n",
        "    end_logits = tf.keras.layers.Flatten()(end_logits)\r\n",
        "    #start_probs = tf.keras.layers.Activation(tf.keras.activations.softmax)(start_logits)\r\n",
        "    #end_probs = tf.keras.layers.Activation(tf.keras.activations.softmax)(end_logits)\r\n",
        "    model = keras.Model(inputs=[input_word_ids, input_mask, input_type_ids], outputs=[start_logits, end_logits])\r\n",
        "    \r\n",
        "    return model"
      ],
      "execution_count": 14,
      "outputs": []
    },
    {
      "cell_type": "code",
      "metadata": {
        "id": "tNT07rSVxJhY"
      },
      "source": [
        "class CustomizedLoss(tf.keras.losses.Loss):\r\n",
        "    def compute_loss(self, logits, positions):\r\n",
        "        one_hot_positions = tf.one_hot(\r\n",
        "            positions, depth=max_seq_length, dtype=tf.float32)\r\n",
        "        log_probs = tf.nn.log_softmax(logits, axis=-1)\r\n",
        "        loss = -tf.reduce_mean(\r\n",
        "            tf.reduce_sum(one_hot_positions * log_probs, axis=-1))\r\n",
        "        return loss\r\n",
        "    \r\n",
        "    def call(self, y_true, y_pred):\r\n",
        "        start_loss = self.compute_loss(y_pred[0], y_true[0])\r\n",
        "        end_loss = self.compute_loss(y_pred[1], y_true[1])\r\n",
        "        total_loss = (start_loss + end_loss) / 2.0\r\n",
        "        return total_loss"
      ],
      "execution_count": 17,
      "outputs": []
    },
    {
      "cell_type": "code",
      "metadata": {
        "id": "0txvciDfT3xi",
        "colab": {
          "base_uri": "https://localhost:8080/"
        },
        "outputId": "8e3e2bf7-7ba6-4bd6-fda5-2491a92fea34"
      },
      "source": [
        "with tpu_strategy.scope(): # creating the model in the TPUStrategy scope means we will train the model on the TPU\r\n",
        "    model = create_model()\r\n",
        "    # setup compile\r\n",
        "    #loss = tf.keras.losses.SparseCategoricalCrossentropy(from_logits=False)\r\n",
        "    optimizer = tf.keras.optimizers.Adam(lr=1e-5, beta_1=0.9, beta_2=0.98, epsilon=1e-9)\r\n",
        "    model.compile(optimizer=optimizer, loss=CustomizedLoss())\r\n",
        "    model.fit(x_train, y_train, epochs=5, batch_size=batch_size, validation_data=(x_eval, y_eval))"
      ],
      "execution_count": 19,
      "outputs": [
        {
          "output_type": "stream",
          "text": [
            "Epoch 1/5\n"
          ],
          "name": "stdout"
        },
        {
          "output_type": "stream",
          "text": [
            "/usr/local/lib/python3.6/dist-packages/tensorflow/python/framework/indexed_slices.py:437: UserWarning: Converting sparse IndexedSlices(IndexedSlices(indices=Tensor(\"Adam/gradients/StatefulPartitionedCall:1\", shape=(None,), dtype=int32), values=Tensor(\"Adam/gradients/StatefulPartitionedCall:0\", dtype=float32), dense_shape=Tensor(\"Adam/gradients/StatefulPartitionedCall:2\", shape=(None,), dtype=int32))) to a dense Tensor of unknown shape. This may consume a large amount of memory.\n",
            "  \"shape. This may consume a large amount of memory.\" % value)\n"
          ],
          "name": "stderr"
        },
        {
          "output_type": "stream",
          "text": [
            "2007/2007 [==============================] - 474s 199ms/step - loss: 3.5607 - flatten_4_loss: 1.8254 - flatten_5_loss: 1.7354 - val_loss: 1.3050 - val_flatten_4_loss: 0.6702 - val_flatten_5_loss: 0.6348\n",
            "Epoch 2/5\n",
            "2007/2007 [==============================] - 354s 176ms/step - loss: 1.6817 - flatten_4_loss: 0.8802 - flatten_5_loss: 0.8015 - val_loss: 1.1455 - val_flatten_4_loss: 0.5930 - val_flatten_5_loss: 0.5525\n",
            "Epoch 3/5\n",
            "2007/2007 [==============================] - 354s 176ms/step - loss: 1.4571 - flatten_4_loss: 0.7611 - flatten_5_loss: 0.6959 - val_loss: 1.1053 - val_flatten_4_loss: 0.5717 - val_flatten_5_loss: 0.5336\n",
            "Epoch 4/5\n",
            "2007/2007 [==============================] - 354s 176ms/step - loss: 1.3129 - flatten_4_loss: 0.6988 - flatten_5_loss: 0.6141 - val_loss: 1.0560 - val_flatten_4_loss: 0.5475 - val_flatten_5_loss: 0.5085\n",
            "Epoch 5/5\n",
            "2007/2007 [==============================] - 354s 176ms/step - loss: 1.1742 - flatten_4_loss: 0.6278 - flatten_5_loss: 0.5464 - val_loss: 1.0885 - val_flatten_4_loss: 0.5637 - val_flatten_5_loss: 0.5248\n"
          ],
          "name": "stdout"
        }
      ]
    },
    {
      "cell_type": "code",
      "metadata": {
        "id": "v8TAHVeC8ba_"
      },
      "source": [
        "model.summary()\r\n",
        "tf.keras.utils.plot_model(model, \"./multi_input_and_output_model.png\", show_shapes=True)"
      ],
      "execution_count": null,
      "outputs": []
    },
    {
      "cell_type": "code",
      "metadata": {
        "id": "D_R-yJwU31qk"
      },
      "source": [
        "model.save_weights(\"./weights.h5\")"
      ],
      "execution_count": null,
      "outputs": []
    },
    {
      "cell_type": "markdown",
      "metadata": {
        "id": "H2cYcF0_Vvxv"
      },
      "source": [
        "#4.Evaluate the QA model"
      ]
    },
    {
      "cell_type": "code",
      "metadata": {
        "id": "1ih3s4fvBSDE"
      },
      "source": [
        "model.load_weights(\"./weights.h5\")"
      ],
      "execution_count": null,
      "outputs": []
    },
    {
      "cell_type": "markdown",
      "metadata": {
        "id": "-sDpD6kS0Kks"
      },
      "source": [
        "##F1 score with span logits"
      ]
    },
    {
      "cell_type": "code",
      "metadata": {
        "id": "py0SwGfJludx"
      },
      "source": [
        "def get_span_from_logits(start_logits, end_logits, input_type_ids):\r\n",
        "    \"\"\"\r\n",
        "    Get the start and end index of subword tokens for one input sample\r\n",
        "    \"\"\"\r\n",
        "    n = len(start_logits)\r\n",
        "    start_idx = -1\r\n",
        "    end_idx = -1\r\n",
        "    max_sum = -np.inf\r\n",
        "    for i in range(n):\r\n",
        "        for j in range(i, n):\r\n",
        "            if input_type_ids[i] == 0 and input_type_ids[j] == 0:\r\n",
        "                if start_logits[i] + end_logits[j] > max_sum:\r\n",
        "                    max_sum = start_logits[i] + end_logits[j]\r\n",
        "                    start_idx = i\r\n",
        "                    end_idx = j\r\n",
        "    return start_idx, end_idx, "
      ],
      "execution_count": 112,
      "outputs": []
    },
    {
      "cell_type": "code",
      "metadata": {
        "colab": {
          "base_uri": "https://localhost:8080/"
        },
        "id": "VEZlz3Xk0mX2",
        "outputId": "f416baf7-d5dc-4aae-cb2b-c7f18ef52b23"
      },
      "source": [
        "#test code\r\n",
        "start_logits = [5,3,1,6,3,10,10,10]\r\n",
        "end_logits = [0,9,5,3,4,3,2,1]\r\n",
        "input_mask = [1,1,1,1,0,0,0,0]\r\n",
        "start_idx, end_idx = get_span_from_logits(start_logits, end_logits, input_mask)\r\n",
        "print(start_idx)\r\n",
        "print(end_idx)\r\n"
      ],
      "execution_count": 109,
      "outputs": [
        {
          "output_type": "stream",
          "text": [
            "0\n",
            "1\n"
          ],
          "name": "stdout"
        }
      ]
    },
    {
      "cell_type": "code",
      "metadata": {
        "id": "H5fDpl0Cpf-3"
      },
      "source": [
        "def normalize_text(text):\r\n",
        "    # convert to lower case\r\n",
        "    text = text.lower()\r\n",
        "    # remove redundant whitespaces\r\n",
        "    text = \"\".join(ch for ch in text if ch not in set(string.punctuation))\r\n",
        "    # remove articles\r\n",
        "    regex = re.compile(r\"\\b(a|an|the)\\b\", re.UNICODE)\r\n",
        "    text = re.sub(regex, \" \", text)\r\n",
        "    text = \" \".join(text.split())\r\n",
        "    return text"
      ],
      "execution_count": 29,
      "outputs": []
    },
    {
      "cell_type": "code",
      "metadata": {
        "id": "mlXAb3rYorJ4"
      },
      "source": [
        "#f1 score\r\n",
        "def compute_f1_with_span(raw_test_data):\r\n",
        "    test_squad_samples = create_squad_examples(raw_test_data)\r\n",
        "    x_test, y_test = create_inputs_targets(test_squad_samples)\r\n",
        "    start_logits, end_logits = model.predict(x_test)\r\n",
        "    test_samples_no_skip = [i for i in test_squad_samples if i.skip == False]\r\n",
        "\r\n",
        "    f1_scores = []\r\n",
        "    for idx, (start, end) in enumerate(zip(start_logits, end_logits)):\r\n",
        "        squad_example = test_samples_no_skip[idx]\r\n",
        "        # start_idx and end_idx is EITHER both are -1, OR \r\n",
        "        # 0 < start_idx < end_idx < len(context_ids)\r\n",
        "        start_idx, end_idx = get_span_from_logits(start, end, squad_example.input_type_ids)\r\n",
        "        # if prediction suggests there is no answer\r\n",
        "        if start_idx == -1 and end_idx == -1:\r\n",
        "            if squad_example.all_answers != None:\r\n",
        "                f1_scores.append(0)\r\n",
        "                continue\r\n",
        "            else:\r\n",
        "                f1_scores.append(1)\r\n",
        "                continue\r\n",
        "        else:\r\n",
        "            offsets = squad_example.context_token_to_char\r\n",
        "            pred_char_start = offsets[start_idx][0]\r\n",
        "            pred_char_end = offsets[end_idx][1]\r\n",
        "            pred_ans = squad_example.context[pred_char_start:pred_char_end]\r\n",
        "            normalized_pred_ans = normalize_text(pred_ans)\r\n",
        "            pred_tokens = normalized_pred_ans.split()\r\n",
        "\r\n",
        "            if squad_example.all_answers == None:\r\n",
        "                f1_scores.append(0)\r\n",
        "                continue\r\n",
        "\r\n",
        "            normalized_true_ans_lst = [normalize_text(_) for _ in squad_example.all_answers]\r\n",
        "            for normalized_true_ans in normalized_true_ans_lst:\r\n",
        "                true_tokens = normalized_true_ans.split()\r\n",
        "                common_tokens = set(pred_tokens) & set(true_tokens)\r\n",
        "                max_f1_score = 0\r\n",
        "                if len(common_tokens) == 0:\r\n",
        "                    max_f1_score = max(max_f1_score, 0)\r\n",
        "                else:\r\n",
        "                    prec = len(common_tokens) / len(pred_tokens)\r\n",
        "                    rec = len(common_tokens) / len(true_tokens)\r\n",
        "                    f1 = 2 * prec * rec / (prec + rec)\r\n",
        "                    max_f1_score = max(max_f1_score, f1)\r\n",
        "            f1_scores.append(max_f1_score)\r\n",
        "    \r\n",
        "    print(f'f1 scores={np.mean(f1_scores):.2f}')\r\n",
        "    return np.mean(f1_scores)"
      ],
      "execution_count": 134,
      "outputs": []
    },
    {
      "cell_type": "code",
      "metadata": {
        "id": "vXOLJjA10CY1"
      },
      "source": [
        "compute_f1_with_span(raw_eval_data)"
      ],
      "execution_count": null,
      "outputs": []
    },
    {
      "cell_type": "markdown",
      "metadata": {
        "id": "edTQL90wo1CA"
      },
      "source": [
        "##F1 score with argmax of indivial start and end"
      ]
    },
    {
      "cell_type": "code",
      "metadata": {
        "id": "0_YRaNx2owYT"
      },
      "source": [
        "def compute_f1(raw_test_data):\r\n",
        "    test_squad_samples = create_squad_examples(raw_test_data)\r\n",
        "    x_test, _ = create_inputs_targets(test_squad_samples)\r\n",
        "    pred_start, pred_end = model.predict(x_test)\r\n",
        "\r\n",
        "    test_examples_no_skip = [_ for _ in test_squad_samples if _.skip == False]\r\n",
        "    \r\n",
        "    f1_scores = []\r\n",
        "    for idx, (start, end) in enumerate(zip(pred_start, pred_end)):\r\n",
        "        # take the required Sample object with the ground-truth answers in it\r\n",
        "        squad_eg = test_examples_no_skip[idx]\r\n",
        "        # use offsets to get back the span of text corresponding to\r\n",
        "        # our predicted first and last tokens\r\n",
        "        offsets = squad_eg.context_token_to_char\r\n",
        "        start = np.argmax(start)\r\n",
        "        end = np.argmax(end)\r\n",
        "        # if start index is larger than the length of tokens\r\n",
        "        if start >= len(offsets):\r\n",
        "            f1_scores.append(0)\r\n",
        "            continue\r\n",
        "        \r\n",
        "        pred_char_start = offsets[start][0]\r\n",
        "        if end < len(offsets):\r\n",
        "            pred_char_end = offsets[end][1]\r\n",
        "            pred_ans = squad_eg.context[pred_char_start:pred_char_end]\r\n",
        "        else:\r\n",
        "            pred_ans = squad_eg.context[pred_char_start:]\r\n",
        "        \r\n",
        "        normalized_pred_ans = normalize_text(pred_ans)\r\n",
        "        pred_tokens = normalized_pred_ans.split()\r\n",
        "        \r\n",
        "        # if predicted answers is none, f1 score = 0 if all_answers is none, else 1\r\n",
        "        if not squad_eg.all_answers:\r\n",
        "            f1_scores.append(len(pred_tokens) == 0)\r\n",
        "            continue\r\n",
        "        if len(pred_tokens) == 0:\r\n",
        "            f1_scores.append(squad_eg.all_answers == None)\r\n",
        "            continue\r\n",
        "\r\n",
        "        max_f1 = float('-inf')\r\n",
        "        normalized_true_ans_lst = [normalize_text(_) for _ in squad_eg.all_answers]\r\n",
        "        for normalized_true_ans in normalized_true_ans_lst:\r\n",
        "            truth_tokens = normalized_true_ans.split()\r\n",
        "            common_tokens = set(pred_tokens) & set(truth_tokens)\r\n",
        "            # if there are no common tokens then f1 = 0\r\n",
        "            if len(common_tokens) == 0:\r\n",
        "                max_f1 = max(max_f1, 0)\r\n",
        "            \r\n",
        "            else:\r\n",
        "                prec = len(common_tokens) / len(pred_tokens)\r\n",
        "                rec = len(common_tokens) / len(truth_tokens)   \r\n",
        "                max_f1 = max(max_f1, 2 * (prec * rec) / (prec + rec))\r\n",
        "        \r\n",
        "        f1_scores.append(max_f1)\r\n",
        "\r\n",
        "    print(f\"f1 score={np.mean(f1_scores):.2f}\")\r\n",
        "    return f1_scores"
      ],
      "execution_count": 136,
      "outputs": []
    },
    {
      "cell_type": "code",
      "metadata": {
        "colab": {
          "base_uri": "https://localhost:8080/"
        },
        "id": "SYweu-fsPqOc",
        "outputId": "44ac988b-b972-4c12-a90e-e4af2a1a2176"
      },
      "source": [
        "f1_scores = compute_f1(raw_eval_data)"
      ],
      "execution_count": 137,
      "outputs": [
        {
          "output_type": "stream",
          "text": [
            "f1 score=0.44\n"
          ],
          "name": "stdout"
        }
      ]
    },
    {
      "cell_type": "markdown",
      "metadata": {
        "id": "X2dwt1cNo3F8"
      },
      "source": [
        "##EM (exact match) with span"
      ]
    },
    {
      "cell_type": "code",
      "metadata": {
        "id": "jgUzPqrgfDyd"
      },
      "source": [
        "def exact_match_score_with_span(raw_test_data):\r\n",
        "    test_squad_samples = create_squad_examples(raw_test_data)\r\n",
        "    x_test, _ = create_inputs_targets(test_squad_samples)\r\n",
        "    start_logits, end_logits = model.predict(x_test)\r\n",
        "\r\n",
        "    test_examples_no_skip = [_ for _ in test_squad_samples if _.skip == False]\r\n",
        "    \r\n",
        "    count = 0\r\n",
        "\r\n",
        "    for idx, (start, end) in enumerate(zip(start_logits[:100], end_logits[:100])):\r\n",
        "        # take the required Sample object with the ground-truth answers in it\r\n",
        "        squad_eg = test_examples_no_skip[idx]\r\n",
        "        # use offsets to get back the span of text corresponding to\r\n",
        "        # our predicted first and last tokens\r\n",
        "        offsets = squad_eg.context_token_to_char\r\n",
        "        start_idx, end_idx = get_span_from_logits(start, end, squad_eg.input_type_ids)\r\n",
        "        \r\n",
        "        if start_idx == -1 and end_idx == -1:\r\n",
        "            if not squad_eg.all_answers:\r\n",
        "                count += 1\r\n",
        "            continue\r\n",
        "        else:\r\n",
        "            pred_char_start = offsets[start_idx][0]\r\n",
        "            pred_char_end = offsets[end_idx][1]\r\n",
        "            pred_ans = squad_eg.context[pred_char_start:pred_char_end]\r\n",
        "            normalized_pred_ans = normalize_text(pred_ans)\r\n",
        "\r\n",
        "            if not squad_eg.all_answers:\r\n",
        "                continue\r\n",
        "            else:\r\n",
        "            # clean the real answers\r\n",
        "                normalized_true_ans_lst = [normalize_text(_) for _ in squad_eg.all_answers]\r\n",
        "                # check if the predicted answer is in an array of the ground-truth answers\r\n",
        "                if normalized_pred_ans in normalized_true_ans_lst:\r\n",
        "                    count += 1\r\n",
        "    acc = count / 100\r\n",
        "    print(f\"exact match score={acc:.2f}\")"
      ],
      "execution_count": 128,
      "outputs": []
    },
    {
      "cell_type": "code",
      "metadata": {
        "colab": {
          "base_uri": "https://localhost:8080/"
        },
        "id": "QPTOkzIeg6EZ",
        "outputId": "886431f6-5cbf-4634-e2d6-1dcbb48174cf"
      },
      "source": [
        "exact_match_score_with_span(raw_eval_data)"
      ],
      "execution_count": 129,
      "outputs": [
        {
          "output_type": "stream",
          "text": [
            "exact match score=0.29\n"
          ],
          "name": "stdout"
        }
      ]
    },
    {
      "cell_type": "markdown",
      "metadata": {
        "id": "S6GFOtmbfgqX"
      },
      "source": [
        "##Exact match without span"
      ]
    },
    {
      "cell_type": "code",
      "metadata": {
        "id": "QiRyM9qgwjlP"
      },
      "source": [
        "def exact_match_score(raw_test_data):\r\n",
        "    test_squad_samples = create_squad_examples(raw_test_data)\r\n",
        "    x_test, _ = create_inputs_targets(test_squad_samples)\r\n",
        "    pred_start, pred_end = model.predict(x_test)\r\n",
        "\r\n",
        "    test_examples_no_skip = [_ for _ in test_squad_samples if _.skip == False]\r\n",
        "    \r\n",
        "    count = 0\r\n",
        "\r\n",
        "    for idx, (start, end) in enumerate(zip(pred_start, pred_end)):\r\n",
        "        # take the required Sample object with the ground-truth answers in it\r\n",
        "        squad_eg = test_examples_no_skip[idx]\r\n",
        "        # use offsets to get back the span of text corresponding to\r\n",
        "        # our predicted first and last tokens\r\n",
        "        offsets = squad_eg.context_token_to_char\r\n",
        "        start = np.argmax(start)\r\n",
        "        end = np.argmax(end)\r\n",
        "        if start >= len(offsets):\r\n",
        "            continue\r\n",
        "        pred_char_start = offsets[start][0]\r\n",
        "        if end < len(offsets):\r\n",
        "            pred_char_end = offsets[end][1]\r\n",
        "            pred_ans = squad_eg.context[pred_char_start:pred_char_end]\r\n",
        "        else:\r\n",
        "            pred_ans = squad_eg.context[pred_char_start:]\r\n",
        "        normalized_pred_ans = normalize_text(pred_ans)\r\n",
        "\r\n",
        "        # special case for all_answers is None\r\n",
        "        if not squad_eg.all_answers:\r\n",
        "            if len(pred_ans) == 0:\r\n",
        "                count += 1\r\n",
        "            continue \r\n",
        "        \r\n",
        "        # clean the real answers\r\n",
        "        normalized_true_ans_lst = [normalize_text(_) for _ in squad_eg.all_answers]\r\n",
        "        # check if the predicted answer is in an array of the ground-truth answers\r\n",
        "        if normalized_pred_ans in normalized_true_ans_lst:\r\n",
        "            count += 1\r\n",
        "    acc = count / len(x_test[0])\r\n",
        "    print(f\"exact match score={acc:.2f}\")"
      ],
      "execution_count": 132,
      "outputs": []
    },
    {
      "cell_type": "code",
      "metadata": {
        "colab": {
          "base_uri": "https://localhost:8080/"
        },
        "id": "_OzfPRb1Hh5t",
        "outputId": "f5842c03-f3e9-4078-fbd6-ef5dbc7d0a4d"
      },
      "source": [
        "exact_match_score(raw_eval_data)"
      ],
      "execution_count": 133,
      "outputs": [
        {
          "output_type": "stream",
          "text": [
            "exact match score=0.40\n"
          ],
          "name": "stdout"
        }
      ]
    },
    {
      "cell_type": "markdown",
      "metadata": {
        "id": "a9Z-DNTHox3-"
      },
      "source": [
        "##Examples"
      ]
    },
    {
      "cell_type": "code",
      "metadata": {
        "id": "Z3f9OMcUll8o"
      },
      "source": [
        "def evaluate_qa_model(raw_test_data, verbose=True):\r\n",
        "    test_samples = create_squad_examples(raw_test_data)\r\n",
        "    x_test, _ = create_inputs_targets(test_samples)\r\n",
        "    pred_start, pred_end = model.predict(x_test)\r\n",
        "    pred_ans_lst = []\r\n",
        "    for idx, (start, end) in enumerate(zip(pred_start, pred_end)):\r\n",
        "        test_sample = test_samples[idx]\r\n",
        "        offsets = test_sample.context_token_to_char\r\n",
        "        start = np.argmax(start)\r\n",
        "        end = np.argmax(end)\r\n",
        "        pred_ans = None\r\n",
        "        if start >= len(offsets):\r\n",
        "            continue\r\n",
        "        pred_char_start = offsets[start][0]\r\n",
        "        if end < len(offsets):\r\n",
        "            pred_char_end = offsets[end][1]\r\n",
        "            pred_ans = test_sample.context[pred_char_start:pred_char_end]\r\n",
        "        else:\r\n",
        "            pred_ans = test_sample.context[pred_char_start:]\r\n",
        "        \r\n",
        "        pred_ans_lst.append(pred_ans)\r\n",
        "\r\n",
        "        if verbose: \r\n",
        "            print(\"Q: \" + test_sample.question)\r\n",
        "            print(\"A: \" + pred_ans)\r\n",
        "    \r\n",
        "    return pred_ans_lst"
      ],
      "execution_count": 141,
      "outputs": []
    },
    {
      "cell_type": "code",
      "metadata": {
        "colab": {
          "base_uri": "https://localhost:8080/"
        },
        "id": "fuuiC3rOmhwI",
        "outputId": "fcd81272-8439-4f5c-85ef-0a561f9de869"
      },
      "source": [
        "data = {\"data\":\r\n",
        "    [\r\n",
        "        {\"title\": \"Clinical note\",\r\n",
        "         \"paragraphs\": [\r\n",
        "             {\r\n",
        "                 \"context\": \"Abnormal echocardiogram findings and followup. Shortness of breath, congestive heart failure, \"\r\n",
        "                            \"and valvular insufficiency. The patient complains of shortness of breath, which is worsening. \"\r\n",
        "                            \"The patient underwent an echocardiogram, which shows severe mitral regurgitation and also large \"\r\n",
        "                            \"pleural effusion. The patient is an 86-year-old female admitted for evaluation of abdominal pain \"\r\n",
        "                            \"and bloody stools. The patient has colitis and also diverticulitis, undergoing treatment.\"\r\n",
        "                            \"During the hospitalization, the patient complains of shortness of breath, which is worsening.\"\r\n",
        "                            \"The patient underwent an echocardiogram, which shows severe mitral regurgitation and also large \"\r\n",
        "                            \"pleural effusion. This consultation is for further evaluation in this regard. As per the patient, \"\r\n",
        "                            \"she is an 86-year-old female, has limited activity level. She has been having shortness of breath \"\r\n",
        "                            \"for many years. She also was told that she has a heart murmur, which was not followed through \"\r\n",
        "                            \"on a regular basis.\",\r\n",
        "                 \"qas\": [\r\n",
        "                     {\"question\": \"How old is the patient?\",\r\n",
        "                      \"id\": \"Q1\"\r\n",
        "                      },\r\n",
        "                     {\"question\": \"Does the patient have any complaints?\",\r\n",
        "                      \"id\": \"Q2\"\r\n",
        "                      },\r\n",
        "                     {\"question\":\"What is the reason for this consultation?\",\r\n",
        "                      \"id\": \"Q3\"\r\n",
        "                      },\r\n",
        "                     {\"question\": \"What does her echocardiogram show?\",\r\n",
        "                      \"id\": \"Q4\"\r\n",
        "                      },\r\n",
        "                     {\"question\": \"What other symptoms does the patient have?\",\r\n",
        "                      \"id\": \"Q5\"\r\n",
        "                      },\r\n",
        "                     {\"question\": \"What's the gender of this patient?\",\r\n",
        "                      \"id\": \"Q6\"\r\n",
        "                      }\r\n",
        "                 ]}]}]}\r\n",
        "\r\n",
        "pred_ans_lst = evaluate_qa_model(data)"
      ],
      "execution_count": 142,
      "outputs": [
        {
          "output_type": "stream",
          "text": [
            "Q: How old is the patient?\n",
            "A: 86\n",
            "Q: Does the patient have any complaints?\n",
            "A: shortness of breath\n",
            "Q: What is the reason for this consultation?\n",
            "A: further evaluation\n",
            "Q: What does her echocardiogram show?\n",
            "A: severe mitral regurgitation and also large pleural effusion\n",
            "Q: What other symptoms does the patient have?\n",
            "A: colitis\n",
            "Q: What's the gender of this patient?\n",
            "A: an 86-year-old female\n"
          ],
          "name": "stdout"
        }
      ]
    },
    {
      "cell_type": "code",
      "metadata": {
        "colab": {
          "base_uri": "https://localhost:8080/"
        },
        "id": "9fBHOr60j7Yj",
        "outputId": "a25c090b-027d-436d-deac-3ae1dd7a7e50"
      },
      "source": [
        "data = {\"data\":\r\n",
        "    [\r\n",
        "        {\"title\": \"Project Apollo\",\r\n",
        "         \"paragraphs\": [\r\n",
        "             {\r\n",
        "                 \"context\": \"The Apollo program, also known as Project Apollo, was the third United States human \"\r\n",
        "                            \"spaceflight program carried out by the National Aeronautics and Space Administration (\"\r\n",
        "                            \"NASA), which accomplished landing the first humans on the Moon from 1969 to 1972. First \"\r\n",
        "                            \"conceived during Dwight D. Eisenhower's administration as a three-man spacecraft to \"\r\n",
        "                            \"follow the one-man Project Mercury which put the first Americans in space, Apollo was \"\r\n",
        "                            \"later dedicated to President John F. Kennedy's national goal of landing a man on the \"\r\n",
        "                            \"Moon and returning him safely to the Earth by the end of the 1960s, which he proposed in \"\r\n",
        "                            \"a May 25, 1961, address to Congress. Project Mercury was followed by the two-man Project \"\r\n",
        "                            \"Gemini. The first manned flight of Apollo was in 1968. Apollo ran from 1961 to 1972, \"\r\n",
        "                            \"and was supported by the two man Gemini program which ran concurrently with it from 1962 \"\r\n",
        "                            \"to 1966. Gemini missions developed some of the space travel techniques that were \"\r\n",
        "                            \"necessary for the success of the Apollo missions. Apollo used Saturn family rockets as \"\r\n",
        "                            \"launch vehicles. Apollo/Saturn vehicles were also used for an Apollo Applications \"\r\n",
        "                            \"Program, which consisted of Skylab, a space station that supported three manned missions \"\r\n",
        "                            \"in 1973-74, and the Apollo-Soyuz Test Project, a joint Earth orbit mission with the \"\r\n",
        "                            \"Soviet Union in 1975.\",\r\n",
        "                 \"qas\": [\r\n",
        "                     {\"question\": \"What project put the first Americans into space?\",\r\n",
        "                      \"id\": \"Q1\"\r\n",
        "                      },\r\n",
        "                     {\"question\": \"What program was created to carry out these projects and missions?\",\r\n",
        "                      \"id\": \"Q2\"\r\n",
        "                      },\r\n",
        "                     {\"question\": \"What year did the first manned Apollo flight occur?\",\r\n",
        "                      \"id\": \"Q3\"\r\n",
        "                      },\r\n",
        "                     {\"question\": \"What President is credited with the original notion of putting Americans in space?\",\r\n",
        "                      \"id\": \"Q4\"\r\n",
        "                      },\r\n",
        "                     {\"question\": \"Who did the U.S. collaborate with on an Earth orbit mission in 1975?\",\r\n",
        "                      \"id\": \"Q5\"\r\n",
        "                      },\r\n",
        "                     {\"question\": \"How long did Project Apollo run?\",\r\n",
        "                      \"id\": \"Q6\"\r\n",
        "                      },\r\n",
        "                     {\"question\": \"What program helped develop space travel techniques that Project Apollo used?\",\r\n",
        "                      \"id\": \"Q7\"\r\n",
        "                      },\r\n",
        "                     {\"question\": \"What space station supported three manned missions in 1973-1974?\",\r\n",
        "                      \"id\": \"Q8\"\r\n",
        "                      }\r\n",
        "                 ]}]}]}\r\n",
        "\r\n",
        "\r\n",
        "pred_ans_lst = evaluate_qa_model(data)"
      ],
      "execution_count": 143,
      "outputs": [
        {
          "output_type": "stream",
          "text": [
            "Q: What project put the first Americans into space?\n",
            "A: Project Mercury\n",
            "Q: What program was created to carry out these projects and missions?\n",
            "A: The Apollo program\n",
            "Q: What year did the first manned Apollo flight occur?\n",
            "A: 1968\n",
            "Q: What President is credited with the original notion of putting Americans in space?\n",
            "A: Dwight D. Eisenhower\n",
            "Q: Who did the U.S. collaborate with on an Earth orbit mission in 1975?\n",
            "A: Soviet Union\n",
            "Q: How long did Project Apollo run?\n",
            "A: 1961 to 1972\n",
            "Q: What program helped develop space travel techniques that Project Apollo used?\n",
            "A: Gemini missions\n",
            "Q: What space station supported three manned missions in 1973-1974?\n",
            "A: Skylab\n"
          ],
          "name": "stdout"
        }
      ]
    },
    {
      "cell_type": "code",
      "metadata": {
        "id": "ZtcLf9j0Zlf3",
        "colab": {
          "base_uri": "https://localhost:8080/"
        },
        "outputId": "00474d94-3844-4a88-a150-3ecfa29d14a7"
      },
      "source": [
        "data = {\"data\":\r\n",
        "    [\r\n",
        "        {\"title\": \"Project Apollo\",\r\n",
        "         \"paragraphs\": [\r\n",
        "             {\r\n",
        "                 \"context\": \"The word pharmacy is derived from its root word pharma which was a term used since \"\r\n",
        "                            \"the 15th–17th centuries. However, the original Greek roots from pharmakos imply sorcery \"\r\n",
        "                            \"or even poison. In addition to pharma responsibilities, the pharma offered general medical \"\r\n",
        "                            \"advice and a range of services that are now performed solely by other specialist practitioners, \"\r\n",
        "                            \"such as surgery and midwifery. The pharma (as it was referred to) often operated through a \"\r\n",
        "                            \"retail shop which, in addition to ingredients for medicines, sold tobacco and patent medicines. \"\r\n",
        "                            \"Often the place that did this was called an apothecary and several languages have this as the \"\r\n",
        "                            \"dominant term, though their practices are more akin to a modern pharmacy, in English the term \"\r\n",
        "                            \"apothecary would today be seen as outdated or only approproriate if herbal remedies were on offer \"\r\n",
        "                            \"to a large extent. The pharmas also used many other herbs not listed. The Greek word Pharmakeia \"\r\n",
        "                            \"(Greek: φαρμακεία) derives from pharmakon (φάρμακον), meaning 'drug', 'medicine' (or 'poison').\",\r\n",
        "                 \"qas\": [\r\n",
        "                     {\"question\": \"What word is the word pharmacy taken from??\",\r\n",
        "                      \"id\": \"Q1\"\r\n",
        "                      },\r\n",
        "                    {\"question\": \"When is the word pharmacy derived??\",\r\n",
        "                      \"id\": \"Q2\"\r\n",
        "                      },\r\n",
        "                    {\"question\": \"How did pharma operate??\",\r\n",
        "                      \"id\": \"Q3\"\r\n",
        "                      }\r\n",
        "                 ]}]}]}\r\n",
        "\r\n",
        "\r\n",
        "pred_ans_lst = evaluate_qa_model(data)"
      ],
      "execution_count": 144,
      "outputs": [
        {
          "output_type": "stream",
          "text": [
            "Q: What word is the word pharmacy taken from??\n",
            "A: pharma\n",
            "Q: When is the word pharmacy derived??\n",
            "A: 15th–17th centuries\n",
            "Q: How did pharma operate??\n",
            "A: through a retail shop\n"
          ],
          "name": "stdout"
        }
      ]
    },
    {
      "cell_type": "markdown",
      "metadata": {
        "id": "CkHR8UBXVxyv"
      },
      "source": [
        "#5.Deploy the model on Django"
      ]
    }
  ]
}